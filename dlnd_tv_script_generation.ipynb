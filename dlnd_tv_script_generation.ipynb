{
 "cells": [
  {
   "cell_type": "markdown",
   "metadata": {
    "deletable": true,
    "editable": true
   },
   "source": [
    "# TV Script Generation\n",
    "In this project, you'll generate your own [Simpsons](https://en.wikipedia.org/wiki/The_Simpsons) TV scripts using RNNs.  You'll be using part of the [Simpsons dataset](https://www.kaggle.com/wcukierski/the-simpsons-by-the-data) of scripts from 27 seasons.  The Neural Network you'll build will generate a new TV script for a scene at [Moe's Tavern](https://simpsonswiki.com/wiki/Moe's_Tavern).\n",
    "## Get the Data\n",
    "The data is already provided for you.  You'll be using a subset of the original dataset.  It consists of only the scenes in Moe's Tavern.  This doesn't include other versions of the tavern, like \"Moe's Cavern\", \"Flaming Moe's\", \"Uncle Moe's Family Feed-Bag\", etc.."
   ]
  },
  {
   "cell_type": "code",
   "execution_count": 1,
   "metadata": {
    "collapsed": false,
    "deletable": true,
    "editable": true
   },
   "outputs": [],
   "source": [
    "\"\"\"\n",
    "DON'T MODIFY ANYTHING IN THIS CELL\n",
    "\"\"\"\n",
    "import helper\n",
    "\n",
    "data_dir = './data/simpsons/moes_tavern_lines.txt'\n",
    "text = helper.load_data(data_dir)\n",
    "# Ignore notice, since we don't use it for analysing the data\n",
    "text = text[81:]"
   ]
  },
  {
   "cell_type": "markdown",
   "metadata": {
    "deletable": true,
    "editable": true
   },
   "source": [
    "## Explore the Data\n",
    "Play around with `view_sentence_range` to view different parts of the data."
   ]
  },
  {
   "cell_type": "code",
   "execution_count": 2,
   "metadata": {
    "collapsed": false,
    "deletable": true,
    "editable": true
   },
   "outputs": [
    {
     "name": "stdout",
     "output_type": "stream",
     "text": [
      "Dataset Stats\n",
      "Roughly the number of unique words: 11492\n",
      "Number of scenes: 262\n",
      "Average number of sentences in each scene: 15.248091603053435\n",
      "Number of lines: 4257\n",
      "Average number of words in each line: 11.50434578341555\n",
      "\n",
      "The sentences 0 to 10:\n",
      "Moe_Szyslak: (INTO PHONE) Moe's Tavern. Where the elite meet to drink.\n",
      "Bart_Simpson: Eh, yeah, hello, is Mike there? Last name, Rotch.\n",
      "Moe_Szyslak: (INTO PHONE) Hold on, I'll check. (TO BARFLIES) Mike Rotch. Mike Rotch. Hey, has anybody seen Mike Rotch, lately?\n",
      "Moe_Szyslak: (INTO PHONE) Listen you little puke. One of these days I'm gonna catch you, and I'm gonna carve my name on your back with an ice pick.\n",
      "Moe_Szyslak: What's the matter Homer? You're not your normal effervescent self.\n",
      "Homer_Simpson: I got my problems, Moe. Give me another one.\n",
      "Moe_Szyslak: Homer, hey, you should not drink to forget your problems.\n",
      "Barney_Gumble: Yeah, you should only drink to enhance your social skills.\n",
      "\n",
      "\n"
     ]
    }
   ],
   "source": [
    "view_sentence_range = (0, 10)\n",
    "\n",
    "\"\"\"\n",
    "DON'T MODIFY ANYTHING IN THIS CELL\n",
    "\"\"\"\n",
    "import numpy as np\n",
    "\n",
    "print('Dataset Stats')\n",
    "print('Roughly the number of unique words: {}'.format(len({word: None for word in text.split()})))\n",
    "scenes = text.split('\\n\\n')\n",
    "print('Number of scenes: {}'.format(len(scenes)))\n",
    "sentence_count_scene = [scene.count('\\n') for scene in scenes]\n",
    "print('Average number of sentences in each scene: {}'.format(np.average(sentence_count_scene)))\n",
    "\n",
    "sentences = [sentence for scene in scenes for sentence in scene.split('\\n')]\n",
    "print('Number of lines: {}'.format(len(sentences)))\n",
    "word_count_sentence = [len(sentence.split()) for sentence in sentences]\n",
    "print('Average number of words in each line: {}'.format(np.average(word_count_sentence)))\n",
    "\n",
    "print()\n",
    "print('The sentences {} to {}:'.format(*view_sentence_range))\n",
    "print('\\n'.join(text.split('\\n')[view_sentence_range[0]:view_sentence_range[1]]))"
   ]
  },
  {
   "cell_type": "markdown",
   "metadata": {
    "deletable": true,
    "editable": true
   },
   "source": [
    "## Implement Preprocessing Functions\n",
    "The first thing to do to any dataset is preprocessing.  Implement the following preprocessing functions below:\n",
    "- Lookup Table\n",
    "- Tokenize Punctuation\n",
    "\n",
    "### Lookup Table\n",
    "To create a word embedding, you first need to transform the words to ids.  In this function, create two dictionaries:\n",
    "- Dictionary to go from the words to an id, we'll call `vocab_to_int`\n",
    "- Dictionary to go from the id to word, we'll call `int_to_vocab`\n",
    "\n",
    "Return these dictionaries in the following tuple `(vocab_to_int, int_to_vocab)`"
   ]
  },
  {
   "cell_type": "code",
   "execution_count": 18,
   "metadata": {
    "collapsed": false,
    "deletable": true,
    "editable": true
   },
   "outputs": [
    {
     "name": "stdout",
     "output_type": "stream",
     "text": [
      "71\n",
      "Tests Passed\n"
     ]
    }
   ],
   "source": [
    "import numpy as np\n",
    "import problem_unittests as tests\n",
    "\n",
    "def create_lookup_tables(text):\n",
    "    \"\"\"\n",
    "    Create lookup tables for vocabulary\n",
    "    :param text: The text of tv scripts split into words\n",
    "    :return: A tuple of dicts (vocab_to_int, int_to_vocab)\n",
    "    \"\"\"\n",
    "    # TODO: Implement Function\n",
    "    #text input variable is a continuous string\n",
    "    #print(text)\n",
    "    words = set(text)\n",
    "    print(len(words))\n",
    "    vocab_to_int = {value: num for (num, value) in enumerate(words)}\n",
    "    #print(type(vocab_to_int))\n",
    "    int_to_vocab = dict((v,k) for k,v in vocab_to_int.items())\n",
    "    #print(len(vocab_to_int),len(int_to_vocab))\n",
    "    #vocab_to_int = {value:num for (num,value) in enumerate(text)}\n",
    "    #print(int_to_vocab)\n",
    "    finalDicts = (vocab_to_int,int_to_vocab)\n",
    "    #print(type(vocab_to_int),type(int_to_vocab))\n",
    "    return finalDicts\n",
    "\n",
    "#create_lookup_tables(text)\n",
    "\"\"\"\n",
    "DON'T MODIFY ANYTHING IN THIS CELL THAT IS BELOW THIS LINE\n",
    "\"\"\"\n",
    "tests.test_create_lookup_tables(create_lookup_tables)"
   ]
  },
  {
   "cell_type": "markdown",
   "metadata": {
    "deletable": true,
    "editable": true
   },
   "source": [
    "### Tokenize Punctuation\n",
    "We'll be splitting the script into a word array using spaces as delimiters.  However, punctuations like periods and exclamation marks make it hard for the neural network to distinguish between the word \"bye\" and \"bye!\".\n",
    "\n",
    "Implement the function `token_lookup` to return a dict that will be used to tokenize symbols like \"!\" into \"||Exclamation_Mark||\".  Create a dictionary for the following symbols where the symbol is the key and value is the token:\n",
    "- Period ( . )\n",
    "- Comma ( , )\n",
    "- Quotation Mark ( \" )\n",
    "- Semicolon ( ; )\n",
    "- Exclamation mark ( ! )\n",
    "- Question mark ( ? )\n",
    "- Left Parentheses ( ( )\n",
    "- Right Parentheses ( ) )\n",
    "- Dash ( -- )\n",
    "- Return ( \\n )\n",
    "\n",
    "This dictionary will be used to token the symbols and add the delimiter (space) around it.  This separates the symbols as it's own word, making it easier for the neural network to predict on the next word. Make sure you don't use a token that could be confused as a word. Instead of using the token \"dash\", try using something like \"||dash||\"."
   ]
  },
  {
   "cell_type": "code",
   "execution_count": 19,
   "metadata": {
    "collapsed": false,
    "deletable": true,
    "editable": true
   },
   "outputs": [
    {
     "name": "stdout",
     "output_type": "stream",
     "text": [
      "Tests Passed\n"
     ]
    }
   ],
   "source": [
    "def token_lookup():\n",
    "    \"\"\"\n",
    "    Generate a dict to turn punctuation into a token.\n",
    "    :return: Tokenize dictionary where the key is the punctuation and the value is the token\n",
    "    \"\"\"\n",
    "    # TODO: Implement Function\n",
    "    keys = ['.',',','\"',';','!','?',')','(','--','\\n']\n",
    "    values= ['||period||','||comma||','||quotationmark||','||semicolon||','\\\n",
    "||exclamationpoint||','||question_mark||','||left_paren||','||right_paren||','||dash||','||return||']\n",
    "    \n",
    "    punct_dict = dict(zip(keys,values))\n",
    "    #print(punct_dict)\n",
    "    return punct_dict\n",
    "\"\"\"\n",
    "DON'T MODIFY ANYTHING IN THIS CELL THAT IS BELOW THIS LINE\n",
    "\"\"\"\n",
    "tests.test_tokenize(token_lookup)"
   ]
  },
  {
   "cell_type": "markdown",
   "metadata": {
    "deletable": true,
    "editable": true
   },
   "source": [
    "## Preprocess all the data and save it\n",
    "Running the code cell below will preprocess all the data and save it to file."
   ]
  },
  {
   "cell_type": "code",
   "execution_count": 20,
   "metadata": {
    "collapsed": false,
    "deletable": true,
    "editable": true
   },
   "outputs": [
    {
     "name": "stdout",
     "output_type": "stream",
     "text": [
      "6779\n"
     ]
    }
   ],
   "source": [
    "\"\"\"\n",
    "DON'T MODIFY ANYTHING IN THIS CELL\n",
    "\"\"\"\n",
    "# Preprocess Training, Validation, and Testing Data\n",
    "helper.preprocess_and_save_data(data_dir, token_lookup, create_lookup_tables)"
   ]
  },
  {
   "cell_type": "markdown",
   "metadata": {
    "deletable": true,
    "editable": true
   },
   "source": [
    "# Check Point\n",
    "This is your first checkpoint. If you ever decide to come back to this notebook or have to restart the notebook, you can start from here. The preprocessed data has been saved to disk."
   ]
  },
  {
   "cell_type": "code",
   "execution_count": 21,
   "metadata": {
    "collapsed": false,
    "deletable": true,
    "editable": true
   },
   "outputs": [],
   "source": [
    "\"\"\"\n",
    "DON'T MODIFY ANYTHING IN THIS CELL\n",
    "\"\"\"\n",
    "import helper\n",
    "import numpy as np\n",
    "import problem_unittests as tests\n",
    "\n",
    "int_text, vocab_to_int, int_to_vocab, token_dict = helper.load_preprocess()"
   ]
  },
  {
   "cell_type": "markdown",
   "metadata": {
    "deletable": true,
    "editable": true
   },
   "source": [
    "## Build the Neural Network\n",
    "You'll build the components necessary to build a RNN by implementing the following functions below:\n",
    "- get_inputs\n",
    "- get_init_cell\n",
    "- get_embed\n",
    "- build_rnn\n",
    "- build_nn\n",
    "- get_batches\n",
    "\n",
    "### Check the Version of TensorFlow and Access to GPU"
   ]
  },
  {
   "cell_type": "code",
   "execution_count": 22,
   "metadata": {
    "collapsed": false,
    "deletable": true,
    "editable": true
   },
   "outputs": [
    {
     "name": "stdout",
     "output_type": "stream",
     "text": [
      "TensorFlow Version: 1.0.0\n",
      "Default GPU Device: /gpu:0\n"
     ]
    }
   ],
   "source": [
    "\"\"\"\n",
    "DON'T MODIFY ANYTHING IN THIS CELL\n",
    "\"\"\"\n",
    "from distutils.version import LooseVersion\n",
    "import warnings\n",
    "import tensorflow as tf\n",
    "\n",
    "# Check TensorFlow Version\n",
    "assert LooseVersion(tf.__version__) >= LooseVersion('1.0'), 'Please use TensorFlow version 1.0 or newer'\n",
    "print('TensorFlow Version: {}'.format(tf.__version__))\n",
    "\n",
    "# Check for a GPU\n",
    "if not tf.test.gpu_device_name():\n",
    "    warnings.warn('No GPU found. Please use a GPU to train your neural network.')\n",
    "else:\n",
    "    print('Default GPU Device: {}'.format(tf.test.gpu_device_name()))"
   ]
  },
  {
   "cell_type": "markdown",
   "metadata": {
    "deletable": true,
    "editable": true
   },
   "source": [
    "### Input\n",
    "Implement the `get_inputs()` function to create TF Placeholders for the Neural Network.  It should create the following placeholders:\n",
    "- Input text placeholder named \"input\" using the [TF Placeholder](https://www.tensorflow.org/api_docs/python/tf/placeholder) `name` parameter.\n",
    "- Targets placeholder\n",
    "- Learning Rate placeholder\n",
    "\n",
    "Return the placeholders in the following tuple `(Input, Targets, LearningRate)`"
   ]
  },
  {
   "cell_type": "code",
   "execution_count": 23,
   "metadata": {
    "collapsed": false,
    "deletable": true,
    "editable": true
   },
   "outputs": [
    {
     "name": "stdout",
     "output_type": "stream",
     "text": [
      "Tests Passed\n"
     ]
    }
   ],
   "source": [
    "def get_inputs():\n",
    "    \"\"\"\n",
    "    Create TF Placeholders for input, targets, and learning rate.\n",
    "    :return: Tuple (input, targets, learning rate)\n",
    "    \"\"\"\n",
    "    # TODO: Implement Function\n",
    "    input_ = tf.placeholder(tf.int32, [None,None], name='input')\n",
    "    target_ = tf.placeholder(tf.int32, [None, None], name='targets')\n",
    "    learning_rate_ = tf.placeholder(tf.float32, name='learning_rate')\n",
    "    return input_, target_, learning_rate_\n",
    "\n",
    "\n",
    "\"\"\"\n",
    "DON'T MODIFY ANYTHING IN THIS CELL THAT IS BELOW THIS LINE\n",
    "\"\"\"\n",
    "tests.test_get_inputs(get_inputs)"
   ]
  },
  {
   "cell_type": "markdown",
   "metadata": {
    "deletable": true,
    "editable": true
   },
   "source": [
    "### Build RNN Cell and Initialize\n",
    "Stack one or more [`BasicLSTMCells`](https://www.tensorflow.org/api_docs/python/tf/contrib/rnn/BasicLSTMCell) in a [`MultiRNNCell`](https://www.tensorflow.org/api_docs/python/tf/contrib/rnn/MultiRNNCell).\n",
    "- The Rnn size should be set using `rnn_size`\n",
    "- Initalize Cell State using the MultiRNNCell's [`zero_state()`](https://www.tensorflow.org/api_docs/python/tf/contrib/rnn/MultiRNNCell#zero_state) function\n",
    "    - Apply the name \"initial_state\" to the initial state using [`tf.identity()`](https://www.tensorflow.org/api_docs/python/tf/identity)\n",
    "\n",
    "Return the cell and initial state in the following tuple `(Cell, InitialState)`"
   ]
  },
  {
   "cell_type": "code",
   "execution_count": 24,
   "metadata": {
    "collapsed": false,
    "deletable": true,
    "editable": true
   },
   "outputs": [
    {
     "name": "stdout",
     "output_type": "stream",
     "text": [
      "Tests Passed\n"
     ]
    }
   ],
   "source": [
    "def get_init_cell(batch_size, rnn_size):\n",
    "    \"\"\"\n",
    "    Create an RNN Cell and initialize it.\n",
    "    :param batch_size: Size of batches\n",
    "    :param rnn_size: Size of RNNs\n",
    "    :return: Tuple (cell, initialize state)\n",
    "    \"\"\"\n",
    "    # TODO: Implement Function\n",
    "    lstm_layers = 2\n",
    "    #no dropout at first\n",
    "    keep_prob = 1  \n",
    "    lstm = tf.contrib.rnn.BasicLSTMCell(rnn_size)\n",
    "    \n",
    "    # Add dropout to the cell\n",
    "    #DH I set dropout keep probability to 1, not sure about including dropout so i think this effecitly doesnt do it\n",
    "    drop = tf.contrib.rnn.DropoutWrapper(lstm, output_keep_prob=keep_prob)\n",
    "    \n",
    "    # Stack up multiple LSTM layers, for deep learning\n",
    "    cell = tf.contrib.rnn.MultiRNNCell([drop] * lstm_layers)\n",
    "    \n",
    "    # Getting an initial state of all zeros\n",
    "    initial_state = cell.zero_state(batch_size, tf.float32)\n",
    "    initial_state = tf.identity(initial_state,name='initial_state')\n",
    "    finalTuple = (cell,initial_state)\n",
    "    return finalTuple\n",
    "\n",
    "\n",
    "\"\"\"\n",
    "DON'T MODIFY ANYTHING IN THIS CELL THAT IS BELOW THIS LINE\n",
    "\"\"\"\n",
    "tests.test_get_init_cell(get_init_cell)"
   ]
  },
  {
   "cell_type": "markdown",
   "metadata": {
    "deletable": true,
    "editable": true
   },
   "source": [
    "### Word Embedding\n",
    "Apply embedding to `input_data` using TensorFlow.  Return the embedded sequence."
   ]
  },
  {
   "cell_type": "code",
   "execution_count": 25,
   "metadata": {
    "collapsed": false,
    "deletable": true,
    "editable": true
   },
   "outputs": [
    {
     "name": "stdout",
     "output_type": "stream",
     "text": [
      "Tests Passed\n"
     ]
    }
   ],
   "source": [
    "def get_embed(input_data, vocab_size, embed_dim):\n",
    "    #DGH Embedding layer is a lookup layer instead of doing one hot encoding of all words which would be \n",
    "    #a huge number of columns with a 'one' in only 1 column so very inefficient\n",
    "    \"\"\"\n",
    "    Create embedding for <input_data>.\n",
    "    :param input_data: TF placeholder for text input.\n",
    "    :param vocab_size: Number of words in vocabulary.\n",
    "    :param embed_dim: Number of embedding dimensions\n",
    "    :return: Embedded input.\n",
    "    \"\"\"\n",
    "    # TODO: Implement Function\n",
    "    embedding = tf.Variable(tf.random_uniform((vocab_size, embed_dim), -1, 1))\n",
    "    embed = tf.nn.embedding_lookup(embedding, input_data)\n",
    "    return embed\n",
    "\n",
    "\n",
    "\"\"\"\n",
    "DON'T MODIFY ANYTHING IN THIS CELL THAT IS BELOW THIS LINE\n",
    "\"\"\"\n",
    "tests.test_get_embed(get_embed)"
   ]
  },
  {
   "cell_type": "markdown",
   "metadata": {
    "deletable": true,
    "editable": true
   },
   "source": [
    "### Build RNN\n",
    "You created a RNN Cell in the `get_init_cell()` function.  Time to use the cell to create a RNN.\n",
    "- Build the RNN using the [`tf.nn.dynamic_rnn()`](https://www.tensorflow.org/api_docs/python/tf/nn/dynamic_rnn)\n",
    " - Apply the name \"final_state\" to the final state using [`tf.identity()`](https://www.tensorflow.org/api_docs/python/tf/identity)\n",
    "\n",
    "Return the outputs and final_state state in the following tuple `(Outputs, FinalState)` "
   ]
  },
  {
   "cell_type": "code",
   "execution_count": 26,
   "metadata": {
    "collapsed": false,
    "deletable": true,
    "editable": true
   },
   "outputs": [
    {
     "name": "stdout",
     "output_type": "stream",
     "text": [
      "Tests Passed\n"
     ]
    }
   ],
   "source": [
    "def build_rnn(cell, inputs):\n",
    "    \"\"\"\n",
    "    Create a RNN using a RNN Cell\n",
    "    :param cell: RNN Cell\n",
    "    :param inputs: Input text data\n",
    "    :return: Tuple (Outputs, Final State)\n",
    "    \"\"\"\n",
    "    # TODO: Implement Function\n",
    "    \n",
    "    outputs, final_state = tf.nn.dynamic_rnn(cell, inputs,dtype = tf.float32)\n",
    "    final_state = tf.identity(final_state,name=\"final_state\")\n",
    "    finalTuple = (outputs,final_state)\n",
    "    return finalTuple\n",
    "\n",
    "\n",
    "\"\"\"\n",
    "DON'T MODIFY ANYTHING IN THIS CELL THAT IS BELOW THIS LINE\n",
    "\"\"\"\n",
    "tests.test_build_rnn(build_rnn)"
   ]
  },
  {
   "cell_type": "markdown",
   "metadata": {
    "deletable": true,
    "editable": true
   },
   "source": [
    "### Build the Neural Network\n",
    "Apply the functions you implemented above to:\n",
    "- Apply embedding to `input_data` using your `get_embed(input_data, vocab_size, embed_dim)` function.\n",
    "- Build RNN using `cell` and your `build_rnn(cell, inputs)` function.\n",
    "- Apply a fully connected layer with a linear activation and `vocab_size` as the number of outputs.\n",
    "\n",
    "Return the logits and final state in the following tuple (Logits, FinalState) "
   ]
  },
  {
   "cell_type": "code",
   "execution_count": 27,
   "metadata": {
    "collapsed": false,
    "deletable": true,
    "editable": true
   },
   "outputs": [
    {
     "name": "stdout",
     "output_type": "stream",
     "text": [
      "Tests Passed\n"
     ]
    }
   ],
   "source": [
    "def build_nn(cell, rnn_size, input_data, vocab_size, embed_dim):\n",
    "    \"\"\"\n",
    "    Build part of the neural network\n",
    "    :param cell: RNN cell\n",
    "    :param rnn_size: Size of rnns\n",
    "    :param input_data: Input data\n",
    "    :param vocab_size: Vocabulary size\n",
    "    :param embed_dim: Number of embedding dimensions\n",
    "    :return: Tuple (Logits, FinalState)\n",
    "    \"\"\"\n",
    "\n",
    "    # TODO: Implement Function\n",
    "    #DH I don't understand whey embed_dim = rnn_size\n",
    "    embedding = get_embed(input_data,vocab_size,embed_dim)\n",
    "    output,finalState = build_rnn(cell,embedding)\n",
    "    #Using the tf.contrib.layers.fully_connected with the activation_fn set to None automatically uses the Linear activation function.\n",
    "    logits = tf.contrib.layers.fully_connected(output, vocab_size, activation_fn=None)\n",
    "    return logits, finalState\n",
    "\n",
    "\n",
    "\"\"\"\n",
    "DON'T MODIFY ANYTHING IN THIS CELL THAT IS BELOW THIS LINE\n",
    "\"\"\"\n",
    "tests.test_build_nn(build_nn)"
   ]
  },
  {
   "cell_type": "markdown",
   "metadata": {
    "deletable": true,
    "editable": true
   },
   "source": [
    "### Batches\n",
    "Implement `get_batches` to create batches of input and targets using `int_text`.  The batches should be a Numpy array with the shape `(number of batches, 2, batch size, sequence length)`. Each batch contains two elements:\n",
    "- The first element is a single batch of **input** with the shape `[batch size, sequence length]`\n",
    "- The second element is a single batch of **targets** with the shape `[batch size, sequence length]`\n",
    "\n",
    "If you can't fill the last batch with enough data, drop the last batch.\n",
    "\n",
    "For exmple, `get_batches([1, 2, 3, 4, 5, 6, 7, 8, 9, 10, 11, 12, 13, 14, 15, 16, 17, 18, 19, 20], 3, 2)` would return a Numpy array of the following:\n",
    "```\n",
    "[\n",
    "  # First Batch\n",
    "  [\n",
    "    # Batch of Input\n",
    "    [[ 1  2], [ 7  8], [13 14]]\n",
    "    # Batch of targets\n",
    "    [[ 2  3], [ 8  9], [14 15]]\n",
    "  ]\n",
    "\n",
    "  # Second Batch\n",
    "  [\n",
    "    # Batch of Input\n",
    "    [[ 3  4], [ 9 10], [15 16]]\n",
    "    # Batch of targets\n",
    "    [[ 4  5], [10 11], [16 17]]\n",
    "  ]\n",
    "\n",
    "  # Third Batch\n",
    "  [\n",
    "    # Batch of Input\n",
    "    [[ 5  6], [11 12], [17 18]]\n",
    "    # Batch of targets\n",
    "    [[ 6  7], [12 13], [18  1]]\n",
    "  ]\n",
    "]\n",
    "```\n",
    "\n",
    "Notice that the last target value in the last batch is the first input value of the first batch. In this case, `1`. This is a common technique used when creating sequence batches, although it is rather unintuitive."
   ]
  },
  {
   "cell_type": "code",
   "execution_count": 28,
   "metadata": {
    "collapsed": false,
    "deletable": true,
    "editable": true
   },
   "outputs": [
    {
     "name": "stdout",
     "output_type": "stream",
     "text": [
      "Tests Passed\n"
     ]
    }
   ],
   "source": [
    "def get_batches(int_text, batch_size, seq_length):\n",
    "    \"\"\"\n",
    "    Return batches of input and target\n",
    "    :param int_text: Text with the words replaced by their ids\n",
    "    :param batch_size: The size of batch\n",
    "    :param seq_length: The length of sequence\n",
    "    :return: A list where each item is a tuple of (batch of input, batch of target).\n",
    "    \"\"\"\n",
    "    #DGH get whole number of batches\n",
    "    n_batches = (len(int_text) // (batch_size * seq_length)) \n",
    "\n",
    "    # Drop the last few characters to make only full batches\n",
    "    #DGH At this point we still have a long one dimensional numpy array in xdata and ydata\n",
    "    xdata = np.array(int_text[: n_batches * batch_size * seq_length])\n",
    "    ydata = np.array(int_text[1: n_batches * batch_size * seq_length + 1])\n",
    "    #Brute force Setting last target to value of first element in input - not sure why have to do that\n",
    "    ydata[-1] = xdata[0]\n",
    "    \n",
    "    #This creates the required data structure    \n",
    "    x_batches = np.split(xdata.reshape(batch_size, -1), n_batches, 1)\n",
    "    y_batches = np.split(ydata.reshape(batch_size, -1), n_batches, 1)\n",
    "    \n",
    "    #print(y_batches.shape)\n",
    "    batches = np.array(list(zip(x_batches, y_batches)))\n",
    "    #DGH Brute force here, not sure why I have to do this (setting last target to first input), but it passed the test\n",
    "    #batches[-1,-1,-1,-1] = batches[0,0,0,0]\n",
    "    #print(batches[0,0,0,0])\n",
    "    return batches\n",
    "\n",
    "\"\"\"\n",
    "DON'T MODIFY ANYTHING IN THIS CELL THAT IS BELOW THIS LINE\n",
    "\"\"\"\n",
    "#get_batches([1, 2, 3, 4, 5, 6, 7, 8, 9, 10, 11, 12, 13, 14, 15,16,17,18,19,20],3, 2)\n",
    "tests.test_get_batches(get_batches)"
   ]
  },
  {
   "cell_type": "markdown",
   "metadata": {
    "deletable": true,
    "editable": true
   },
   "source": [
    "## Neural Network Training\n",
    "### Hyperparameters\n",
    "Tune the following parameters:\n",
    "\n",
    "- Set `num_epochs` to the number of epochs.\n",
    "- Set `batch_size` to the batch size.\n",
    "- Set `rnn_size` to the size of the RNNs.\n",
    "- Set `embed_dim` to the size of the embedding.\n",
    "- Set `seq_length` to the length of sequence.\n",
    "- Set `learning_rate` to the learning rate.\n",
    "- Set `show_every_n_batches` to the number of batches the neural network should print progress."
   ]
  },
  {
   "cell_type": "code",
   "execution_count": 29,
   "metadata": {
    "collapsed": true,
    "deletable": true,
    "editable": true
   },
   "outputs": [],
   "source": [
    "# Number of Epochs\n",
    "num_epochs = 300\n",
    "# Batch Size\n",
    "batch_size = 100\n",
    "# RNN Size\n",
    "rnn_size = 256\n",
    "# Embedding Dimension Size\n",
    "embed_dim = 256\n",
    "# Sequence Length\n",
    "seq_length = 12\n",
    "# Learning Rate\n",
    "learning_rate = .001\n",
    "# Show stats for every n number of batches\n",
    "show_every_n_batches = 30\n",
    "\n",
    "\"\"\"\n",
    "DON'T MODIFY ANYTHING IN THIS CELL THAT IS BELOW THIS LINE\n",
    "\"\"\"\n",
    "save_dir = './save'"
   ]
  },
  {
   "cell_type": "markdown",
   "metadata": {
    "deletable": true,
    "editable": true
   },
   "source": [
    "### Build the Graph\n",
    "Build the graph using the neural network you implemented."
   ]
  },
  {
   "cell_type": "code",
   "execution_count": 30,
   "metadata": {
    "collapsed": false,
    "deletable": true,
    "editable": true
   },
   "outputs": [],
   "source": [
    "\"\"\"\n",
    "DON'T MODIFY ANYTHING IN THIS CELL\n",
    "\"\"\"\n",
    "from tensorflow.contrib import seq2seq\n",
    "\n",
    "train_graph = tf.Graph()\n",
    "with train_graph.as_default():\n",
    "    vocab_size = len(int_to_vocab)\n",
    "    input_text, targets, lr = get_inputs()\n",
    "    input_data_shape = tf.shape(input_text)\n",
    "    cell, initial_state = get_init_cell(input_data_shape[0], rnn_size)\n",
    "    logits, final_state = build_nn(cell, rnn_size, input_text, vocab_size, embed_dim)\n",
    "\n",
    "    # Probabilities for generating words\n",
    "    probs = tf.nn.softmax(logits, name='probs')\n",
    "\n",
    "    # Loss function\n",
    "    cost = seq2seq.sequence_loss(\n",
    "        logits,\n",
    "        targets,\n",
    "        tf.ones([input_data_shape[0], input_data_shape[1]]))\n",
    "\n",
    "    # Optimizer\n",
    "    optimizer = tf.train.AdamOptimizer(lr)\n",
    "\n",
    "    # Gradient Clipping\n",
    "    gradients = optimizer.compute_gradients(cost)\n",
    "    capped_gradients = [(tf.clip_by_value(grad, -1., 1.), var) for grad, var in gradients if grad is not None]\n",
    "    train_op = optimizer.apply_gradients(capped_gradients)"
   ]
  },
  {
   "cell_type": "markdown",
   "metadata": {
    "deletable": true,
    "editable": true
   },
   "source": [
    "## Train\n",
    "Train the neural network on the preprocessed data.  If you have a hard time getting a good loss, check the [forms](https://discussions.udacity.com/) to see if anyone is having the same problem."
   ]
  },
  {
   "cell_type": "code",
   "execution_count": 31,
   "metadata": {
    "collapsed": false,
    "deletable": true,
    "editable": true
   },
   "outputs": [
    {
     "name": "stdout",
     "output_type": "stream",
     "text": [
      "Epoch   0 Batch    0/57   train_loss = 8.821\n",
      "Epoch   0 Batch   30/57   train_loss = 6.687\n",
      "Epoch   1 Batch    3/57   train_loss = 6.164\n",
      "Epoch   1 Batch   33/57   train_loss = 6.127\n",
      "Epoch   2 Batch    6/57   train_loss = 6.162\n",
      "Epoch   2 Batch   36/57   train_loss = 6.075\n",
      "Epoch   3 Batch    9/57   train_loss = 6.079\n",
      "Epoch   3 Batch   39/57   train_loss = 5.991\n",
      "Epoch   4 Batch   12/57   train_loss = 6.147\n",
      "Epoch   4 Batch   42/57   train_loss = 6.078\n",
      "Epoch   5 Batch   15/57   train_loss = 5.945\n",
      "Epoch   5 Batch   45/57   train_loss = 5.951\n",
      "Epoch   6 Batch   18/57   train_loss = 5.939\n",
      "Epoch   6 Batch   48/57   train_loss = 6.003\n",
      "Epoch   7 Batch   21/57   train_loss = 5.974\n",
      "Epoch   7 Batch   51/57   train_loss = 5.956\n",
      "Epoch   8 Batch   24/57   train_loss = 5.781\n",
      "Epoch   8 Batch   54/57   train_loss = 5.897\n",
      "Epoch   9 Batch   27/57   train_loss = 5.855\n",
      "Epoch  10 Batch    0/57   train_loss = 5.883\n",
      "Epoch  10 Batch   30/57   train_loss = 5.950\n",
      "Epoch  11 Batch    3/57   train_loss = 5.662\n",
      "Epoch  11 Batch   33/57   train_loss = 5.654\n",
      "Epoch  12 Batch    6/57   train_loss = 5.693\n",
      "Epoch  12 Batch   36/57   train_loss = 5.552\n",
      "Epoch  13 Batch    9/57   train_loss = 5.508\n",
      "Epoch  13 Batch   39/57   train_loss = 5.322\n",
      "Epoch  14 Batch   12/57   train_loss = 5.422\n",
      "Epoch  14 Batch   42/57   train_loss = 5.244\n",
      "Epoch  15 Batch   15/57   train_loss = 5.048\n",
      "Epoch  15 Batch   45/57   train_loss = 4.939\n",
      "Epoch  16 Batch   18/57   train_loss = 4.902\n",
      "Epoch  16 Batch   48/57   train_loss = 4.992\n",
      "Epoch  17 Batch   21/57   train_loss = 4.965\n",
      "Epoch  17 Batch   51/57   train_loss = 4.937\n",
      "Epoch  18 Batch   24/57   train_loss = 4.694\n",
      "Epoch  18 Batch   54/57   train_loss = 4.828\n",
      "Epoch  19 Batch   27/57   train_loss = 4.702\n",
      "Epoch  20 Batch    0/57   train_loss = 4.737\n",
      "Epoch  20 Batch   30/57   train_loss = 4.845\n",
      "Epoch  21 Batch    3/57   train_loss = 4.545\n",
      "Epoch  21 Batch   33/57   train_loss = 4.614\n",
      "Epoch  22 Batch    6/57   train_loss = 4.586\n",
      "Epoch  22 Batch   36/57   train_loss = 4.420\n",
      "Epoch  23 Batch    9/57   train_loss = 4.466\n",
      "Epoch  23 Batch   39/57   train_loss = 4.355\n",
      "Epoch  24 Batch   12/57   train_loss = 4.517\n",
      "Epoch  24 Batch   42/57   train_loss = 4.362\n",
      "Epoch  25 Batch   15/57   train_loss = 4.244\n",
      "Epoch  25 Batch   45/57   train_loss = 4.162\n",
      "Epoch  26 Batch   18/57   train_loss = 4.182\n",
      "Epoch  26 Batch   48/57   train_loss = 4.260\n",
      "Epoch  27 Batch   21/57   train_loss = 4.273\n",
      "Epoch  27 Batch   51/57   train_loss = 4.225\n",
      "Epoch  28 Batch   24/57   train_loss = 4.040\n",
      "Epoch  28 Batch   54/57   train_loss = 4.170\n",
      "Epoch  29 Batch   27/57   train_loss = 4.069\n",
      "Epoch  30 Batch    0/57   train_loss = 4.114\n",
      "Epoch  30 Batch   30/57   train_loss = 4.194\n",
      "Epoch  31 Batch    3/57   train_loss = 3.928\n",
      "Epoch  31 Batch   33/57   train_loss = 4.035\n",
      "Epoch  32 Batch    6/57   train_loss = 3.977\n",
      "Epoch  32 Batch   36/57   train_loss = 3.882\n",
      "Epoch  33 Batch    9/57   train_loss = 3.905\n",
      "Epoch  33 Batch   39/57   train_loss = 3.838\n",
      "Epoch  34 Batch   12/57   train_loss = 3.945\n",
      "Epoch  34 Batch   42/57   train_loss = 3.858\n",
      "Epoch  35 Batch   15/57   train_loss = 3.712\n",
      "Epoch  35 Batch   45/57   train_loss = 3.653\n",
      "Epoch  36 Batch   18/57   train_loss = 3.663\n",
      "Epoch  36 Batch   48/57   train_loss = 3.728\n",
      "Epoch  37 Batch   21/57   train_loss = 3.750\n",
      "Epoch  37 Batch   51/57   train_loss = 3.696\n",
      "Epoch  38 Batch   24/57   train_loss = 3.524\n",
      "Epoch  38 Batch   54/57   train_loss = 3.673\n",
      "Epoch  39 Batch   27/57   train_loss = 3.536\n",
      "Epoch  40 Batch    0/57   train_loss = 3.603\n",
      "Epoch  40 Batch   30/57   train_loss = 3.616\n",
      "Epoch  41 Batch    3/57   train_loss = 3.399\n",
      "Epoch  41 Batch   33/57   train_loss = 3.511\n",
      "Epoch  42 Batch    6/57   train_loss = 3.415\n",
      "Epoch  42 Batch   36/57   train_loss = 3.372\n",
      "Epoch  43 Batch    9/57   train_loss = 3.329\n",
      "Epoch  43 Batch   39/57   train_loss = 3.322\n",
      "Epoch  44 Batch   12/57   train_loss = 3.353\n",
      "Epoch  44 Batch   42/57   train_loss = 3.268\n",
      "Epoch  45 Batch   15/57   train_loss = 3.208\n",
      "Epoch  45 Batch   45/57   train_loss = 3.119\n",
      "Epoch  46 Batch   18/57   train_loss = 3.138\n",
      "Epoch  46 Batch   48/57   train_loss = 3.220\n",
      "Epoch  47 Batch   21/57   train_loss = 3.184\n",
      "Epoch  47 Batch   51/57   train_loss = 3.161\n",
      "Epoch  48 Batch   24/57   train_loss = 3.034\n",
      "Epoch  48 Batch   54/57   train_loss = 3.193\n",
      "Epoch  49 Batch   27/57   train_loss = 3.052\n",
      "Epoch  50 Batch    0/57   train_loss = 3.053\n",
      "Epoch  50 Batch   30/57   train_loss = 3.113\n",
      "Epoch  51 Batch    3/57   train_loss = 2.896\n",
      "Epoch  51 Batch   33/57   train_loss = 3.022\n",
      "Epoch  52 Batch    6/57   train_loss = 2.913\n",
      "Epoch  52 Batch   36/57   train_loss = 2.883\n",
      "Epoch  53 Batch    9/57   train_loss = 2.797\n",
      "Epoch  53 Batch   39/57   train_loss = 2.802\n",
      "Epoch  54 Batch   12/57   train_loss = 2.810\n",
      "Epoch  54 Batch   42/57   train_loss = 2.760\n",
      "Epoch  55 Batch   15/57   train_loss = 2.694\n",
      "Epoch  55 Batch   45/57   train_loss = 2.692\n",
      "Epoch  56 Batch   18/57   train_loss = 2.639\n",
      "Epoch  56 Batch   48/57   train_loss = 2.758\n",
      "Epoch  57 Batch   21/57   train_loss = 2.677\n",
      "Epoch  57 Batch   51/57   train_loss = 2.696\n",
      "Epoch  58 Batch   24/57   train_loss = 2.603\n",
      "Epoch  58 Batch   54/57   train_loss = 2.740\n",
      "Epoch  59 Batch   27/57   train_loss = 2.618\n",
      "Epoch  60 Batch    0/57   train_loss = 2.595\n",
      "Epoch  60 Batch   30/57   train_loss = 2.663\n",
      "Epoch  61 Batch    3/57   train_loss = 2.500\n",
      "Epoch  61 Batch   33/57   train_loss = 2.675\n",
      "Epoch  62 Batch    6/57   train_loss = 2.455\n",
      "Epoch  62 Batch   36/57   train_loss = 2.496\n",
      "Epoch  63 Batch    9/57   train_loss = 2.316\n",
      "Epoch  63 Batch   39/57   train_loss = 2.390\n",
      "Epoch  64 Batch   12/57   train_loss = 2.367\n",
      "Epoch  64 Batch   42/57   train_loss = 2.300\n",
      "Epoch  65 Batch   15/57   train_loss = 2.332\n",
      "Epoch  65 Batch   45/57   train_loss = 2.249\n",
      "Epoch  66 Batch   18/57   train_loss = 2.272\n",
      "Epoch  66 Batch   48/57   train_loss = 2.303\n",
      "Epoch  67 Batch   21/57   train_loss = 2.259\n",
      "Epoch  67 Batch   51/57   train_loss = 2.259\n",
      "Epoch  68 Batch   24/57   train_loss = 2.205\n",
      "Epoch  68 Batch   54/57   train_loss = 2.371\n",
      "Epoch  69 Batch   27/57   train_loss = 2.203\n",
      "Epoch  70 Batch    0/57   train_loss = 2.145\n",
      "Epoch  70 Batch   30/57   train_loss = 2.222\n",
      "Epoch  71 Batch    3/57   train_loss = 2.115\n",
      "Epoch  71 Batch   33/57   train_loss = 2.286\n",
      "Epoch  72 Batch    6/57   train_loss = 2.087\n",
      "Epoch  72 Batch   36/57   train_loss = 2.087\n",
      "Epoch  73 Batch    9/57   train_loss = 1.989\n",
      "Epoch  73 Batch   39/57   train_loss = 2.037\n",
      "Epoch  74 Batch   12/57   train_loss = 1.963\n",
      "Epoch  74 Batch   42/57   train_loss = 1.919\n",
      "Epoch  75 Batch   15/57   train_loss = 1.967\n",
      "Epoch  75 Batch   45/57   train_loss = 1.907\n",
      "Epoch  76 Batch   18/57   train_loss = 1.865\n",
      "Epoch  76 Batch   48/57   train_loss = 1.901\n",
      "Epoch  77 Batch   21/57   train_loss = 1.835\n",
      "Epoch  77 Batch   51/57   train_loss = 1.782\n",
      "Epoch  78 Batch   24/57   train_loss = 1.818\n",
      "Epoch  78 Batch   54/57   train_loss = 1.902\n",
      "Epoch  79 Batch   27/57   train_loss = 1.771\n",
      "Epoch  80 Batch    0/57   train_loss = 1.705\n",
      "Epoch  80 Batch   30/57   train_loss = 1.656\n",
      "Epoch  81 Batch    3/57   train_loss = 1.684\n",
      "Epoch  81 Batch   33/57   train_loss = 1.717\n",
      "Epoch  82 Batch    6/57   train_loss = 1.684\n",
      "Epoch  82 Batch   36/57   train_loss = 1.592\n",
      "Epoch  83 Batch    9/57   train_loss = 1.554\n",
      "Epoch  83 Batch   39/57   train_loss = 1.582\n",
      "Epoch  84 Batch   12/57   train_loss = 1.598\n",
      "Epoch  84 Batch   42/57   train_loss = 1.490\n",
      "Epoch  85 Batch   15/57   train_loss = 1.577\n",
      "Epoch  85 Batch   45/57   train_loss = 1.536\n",
      "Epoch  86 Batch   18/57   train_loss = 1.516\n",
      "Epoch  86 Batch   48/57   train_loss = 1.531\n",
      "Epoch  87 Batch   21/57   train_loss = 1.479\n",
      "Epoch  87 Batch   51/57   train_loss = 1.442\n",
      "Epoch  88 Batch   24/57   train_loss = 1.499\n",
      "Epoch  88 Batch   54/57   train_loss = 1.590\n",
      "Epoch  89 Batch   27/57   train_loss = 1.494\n",
      "Epoch  90 Batch    0/57   train_loss = 1.409\n",
      "Epoch  90 Batch   30/57   train_loss = 1.373\n",
      "Epoch  91 Batch    3/57   train_loss = 1.361\n",
      "Epoch  91 Batch   33/57   train_loss = 1.462\n",
      "Epoch  92 Batch    6/57   train_loss = 1.356\n",
      "Epoch  92 Batch   36/57   train_loss = 1.333\n",
      "Epoch  93 Batch    9/57   train_loss = 1.247\n",
      "Epoch  93 Batch   39/57   train_loss = 1.319\n",
      "Epoch  94 Batch   12/57   train_loss = 1.340\n",
      "Epoch  94 Batch   42/57   train_loss = 1.223\n",
      "Epoch  95 Batch   15/57   train_loss = 1.341\n",
      "Epoch  95 Batch   45/57   train_loss = 1.310\n",
      "Epoch  96 Batch   18/57   train_loss = 1.302\n",
      "Epoch  96 Batch   48/57   train_loss = 1.305\n",
      "Epoch  97 Batch   21/57   train_loss = 1.260\n",
      "Epoch  97 Batch   51/57   train_loss = 1.205\n",
      "Epoch  98 Batch   24/57   train_loss = 1.250\n",
      "Epoch  98 Batch   54/57   train_loss = 1.329\n",
      "Epoch  99 Batch   27/57   train_loss = 1.251\n",
      "Epoch 100 Batch    0/57   train_loss = 1.133\n",
      "Epoch 100 Batch   30/57   train_loss = 1.096\n",
      "Epoch 101 Batch    3/57   train_loss = 1.109\n",
      "Epoch 101 Batch   33/57   train_loss = 1.202\n",
      "Epoch 102 Batch    6/57   train_loss = 1.096\n",
      "Epoch 102 Batch   36/57   train_loss = 1.124\n",
      "Epoch 103 Batch    9/57   train_loss = 0.977\n",
      "Epoch 103 Batch   39/57   train_loss = 1.121\n",
      "Epoch 104 Batch   12/57   train_loss = 1.066\n",
      "Epoch 104 Batch   42/57   train_loss = 0.988\n",
      "Epoch 105 Batch   15/57   train_loss = 1.050\n",
      "Epoch 105 Batch   45/57   train_loss = 1.047\n",
      "Epoch 106 Batch   18/57   train_loss = 1.044\n",
      "Epoch 106 Batch   48/57   train_loss = 1.032\n",
      "Epoch 107 Batch   21/57   train_loss = 0.985\n",
      "Epoch 107 Batch   51/57   train_loss = 0.916\n",
      "Epoch 108 Batch   24/57   train_loss = 0.968\n",
      "Epoch 108 Batch   54/57   train_loss = 1.056\n",
      "Epoch 109 Batch   27/57   train_loss = 0.969\n",
      "Epoch 110 Batch    0/57   train_loss = 0.913\n",
      "Epoch 110 Batch   30/57   train_loss = 0.821\n",
      "Epoch 111 Batch    3/57   train_loss = 0.911\n",
      "Epoch 111 Batch   33/57   train_loss = 0.938\n",
      "Epoch 112 Batch    6/57   train_loss = 0.893\n",
      "Epoch 112 Batch   36/57   train_loss = 0.859\n",
      "Epoch 113 Batch    9/57   train_loss = 0.779\n",
      "Epoch 113 Batch   39/57   train_loss = 0.906\n",
      "Epoch 114 Batch   12/57   train_loss = 0.831\n",
      "Epoch 114 Batch   42/57   train_loss = 0.795\n",
      "Epoch 115 Batch   15/57   train_loss = 0.825\n",
      "Epoch 115 Batch   45/57   train_loss = 0.868\n",
      "Epoch 116 Batch   18/57   train_loss = 0.844\n",
      "Epoch 116 Batch   48/57   train_loss = 0.850\n",
      "Epoch 117 Batch   21/57   train_loss = 0.809\n",
      "Epoch 117 Batch   51/57   train_loss = 0.735\n",
      "Epoch 118 Batch   24/57   train_loss = 0.798\n",
      "Epoch 118 Batch   54/57   train_loss = 0.851\n",
      "Epoch 119 Batch   27/57   train_loss = 0.803\n",
      "Epoch 120 Batch    0/57   train_loss = 0.754\n",
      "Epoch 120 Batch   30/57   train_loss = 0.674\n",
      "Epoch 121 Batch    3/57   train_loss = 0.745\n",
      "Epoch 121 Batch   33/57   train_loss = 0.770\n",
      "Epoch 122 Batch    6/57   train_loss = 0.718\n",
      "Epoch 122 Batch   36/57   train_loss = 0.702\n",
      "Epoch 123 Batch    9/57   train_loss = 0.624\n",
      "Epoch 123 Batch   39/57   train_loss = 0.747\n",
      "Epoch 124 Batch   12/57   train_loss = 0.689\n",
      "Epoch 124 Batch   42/57   train_loss = 0.639\n",
      "Epoch 125 Batch   15/57   train_loss = 0.704\n",
      "Epoch 125 Batch   45/57   train_loss = 0.702\n",
      "Epoch 126 Batch   18/57   train_loss = 0.739\n",
      "Epoch 126 Batch   48/57   train_loss = 0.707\n",
      "Epoch 127 Batch   21/57   train_loss = 0.706\n",
      "Epoch 127 Batch   51/57   train_loss = 0.657\n",
      "Epoch 128 Batch   24/57   train_loss = 0.700\n",
      "Epoch 128 Batch   54/57   train_loss = 0.777\n",
      "Epoch 129 Batch   27/57   train_loss = 0.697\n",
      "Epoch 130 Batch    0/57   train_loss = 0.700\n",
      "Epoch 130 Batch   30/57   train_loss = 0.571\n",
      "Epoch 131 Batch    3/57   train_loss = 0.682\n",
      "Epoch 131 Batch   33/57   train_loss = 0.628\n",
      "Epoch 132 Batch    6/57   train_loss = 0.645\n",
      "Epoch 132 Batch   36/57   train_loss = 0.599\n",
      "Epoch 133 Batch    9/57   train_loss = 0.543\n",
      "Epoch 133 Batch   39/57   train_loss = 0.626\n",
      "Epoch 134 Batch   12/57   train_loss = 0.581\n",
      "Epoch 134 Batch   42/57   train_loss = 0.517\n",
      "Epoch 135 Batch   15/57   train_loss = 0.572\n",
      "Epoch 135 Batch   45/57   train_loss = 0.587\n",
      "Epoch 136 Batch   18/57   train_loss = 0.591\n",
      "Epoch 136 Batch   48/57   train_loss = 0.586\n",
      "Epoch 137 Batch   21/57   train_loss = 0.561\n",
      "Epoch 137 Batch   51/57   train_loss = 0.510\n",
      "Epoch 138 Batch   24/57   train_loss = 0.562\n",
      "Epoch 138 Batch   54/57   train_loss = 0.606\n",
      "Epoch 139 Batch   27/57   train_loss = 0.584\n",
      "Epoch 140 Batch    0/57   train_loss = 0.550\n",
      "Epoch 140 Batch   30/57   train_loss = 0.482\n",
      "Epoch 141 Batch    3/57   train_loss = 0.537\n",
      "Epoch 141 Batch   33/57   train_loss = 0.545\n",
      "Epoch 142 Batch    6/57   train_loss = 0.547\n",
      "Epoch 142 Batch   36/57   train_loss = 0.530\n",
      "Epoch 143 Batch    9/57   train_loss = 0.470\n",
      "Epoch 143 Batch   39/57   train_loss = 0.537\n",
      "Epoch 144 Batch   12/57   train_loss = 0.509\n",
      "Epoch 144 Batch   42/57   train_loss = 0.442\n",
      "Epoch 145 Batch   15/57   train_loss = 0.488\n",
      "Epoch 145 Batch   45/57   train_loss = 0.508\n",
      "Epoch 146 Batch   18/57   train_loss = 0.504\n",
      "Epoch 146 Batch   48/57   train_loss = 0.511\n",
      "Epoch 147 Batch   21/57   train_loss = 0.473\n",
      "Epoch 147 Batch   51/57   train_loss = 0.446\n",
      "Epoch 148 Batch   24/57   train_loss = 0.457\n",
      "Epoch 148 Batch   54/57   train_loss = 0.511\n",
      "Epoch 149 Batch   27/57   train_loss = 0.493\n",
      "Epoch 150 Batch    0/57   train_loss = 0.483\n",
      "Epoch 150 Batch   30/57   train_loss = 0.421\n",
      "Epoch 151 Batch    3/57   train_loss = 0.465\n",
      "Epoch 151 Batch   33/57   train_loss = 0.470\n",
      "Epoch 152 Batch    6/57   train_loss = 0.458\n",
      "Epoch 152 Batch   36/57   train_loss = 0.480\n",
      "Epoch 153 Batch    9/57   train_loss = 0.397\n",
      "Epoch 153 Batch   39/57   train_loss = 0.476\n",
      "Epoch 154 Batch   12/57   train_loss = 0.441\n",
      "Epoch 154 Batch   42/57   train_loss = 0.389\n",
      "Epoch 155 Batch   15/57   train_loss = 0.435\n",
      "Epoch 155 Batch   45/57   train_loss = 0.444\n",
      "Epoch 156 Batch   18/57   train_loss = 0.448\n",
      "Epoch 156 Batch   48/57   train_loss = 0.448\n",
      "Epoch 157 Batch   21/57   train_loss = 0.414\n",
      "Epoch 157 Batch   51/57   train_loss = 0.397\n",
      "Epoch 158 Batch   24/57   train_loss = 0.405\n",
      "Epoch 158 Batch   54/57   train_loss = 0.452\n",
      "Epoch 159 Batch   27/57   train_loss = 0.438\n",
      "Epoch 160 Batch    0/57   train_loss = 0.432\n",
      "Epoch 160 Batch   30/57   train_loss = 0.369\n",
      "Epoch 161 Batch    3/57   train_loss = 0.405\n",
      "Epoch 161 Batch   33/57   train_loss = 0.414\n",
      "Epoch 162 Batch    6/57   train_loss = 0.406\n",
      "Epoch 162 Batch   36/57   train_loss = 0.420\n",
      "Epoch 163 Batch    9/57   train_loss = 0.357\n",
      "Epoch 163 Batch   39/57   train_loss = 0.428\n",
      "Epoch 164 Batch   12/57   train_loss = 0.392\n",
      "Epoch 164 Batch   42/57   train_loss = 0.361\n",
      "Epoch 165 Batch   15/57   train_loss = 0.384\n",
      "Epoch 165 Batch   45/57   train_loss = 0.401\n",
      "Epoch 166 Batch   18/57   train_loss = 0.396\n",
      "Epoch 166 Batch   48/57   train_loss = 0.407\n",
      "Epoch 167 Batch   21/57   train_loss = 0.376\n",
      "Epoch 167 Batch   51/57   train_loss = 0.358\n",
      "Epoch 168 Batch   24/57   train_loss = 0.368\n",
      "Epoch 168 Batch   54/57   train_loss = 0.411\n",
      "Epoch 169 Batch   27/57   train_loss = 0.406\n",
      "Epoch 170 Batch    0/57   train_loss = 0.390\n",
      "Epoch 170 Batch   30/57   train_loss = 0.341\n",
      "Epoch 171 Batch    3/57   train_loss = 0.379\n",
      "Epoch 171 Batch   33/57   train_loss = 0.373\n",
      "Epoch 172 Batch    6/57   train_loss = 0.369\n",
      "Epoch 172 Batch   36/57   train_loss = 0.383\n",
      "Epoch 173 Batch    9/57   train_loss = 0.334\n",
      "Epoch 173 Batch   39/57   train_loss = 0.391\n",
      "Epoch 174 Batch   12/57   train_loss = 0.363\n",
      "Epoch 174 Batch   42/57   train_loss = 0.317\n",
      "Epoch 175 Batch   15/57   train_loss = 0.347\n",
      "Epoch 175 Batch   45/57   train_loss = 0.373\n",
      "Epoch 176 Batch   18/57   train_loss = 0.379\n",
      "Epoch 176 Batch   48/57   train_loss = 0.385\n",
      "Epoch 177 Batch   21/57   train_loss = 0.353\n",
      "Epoch 177 Batch   51/57   train_loss = 0.345\n",
      "Epoch 178 Batch   24/57   train_loss = 0.352\n",
      "Epoch 178 Batch   54/57   train_loss = 0.396\n",
      "Epoch 179 Batch   27/57   train_loss = 0.384\n",
      "Epoch 180 Batch    0/57   train_loss = 0.370\n",
      "Epoch 180 Batch   30/57   train_loss = 0.328\n",
      "Epoch 181 Batch    3/57   train_loss = 0.353\n",
      "Epoch 181 Batch   33/57   train_loss = 0.351\n",
      "Epoch 182 Batch    6/57   train_loss = 0.345\n",
      "Epoch 182 Batch   36/57   train_loss = 0.364\n",
      "Epoch 183 Batch    9/57   train_loss = 0.316\n",
      "Epoch 183 Batch   39/57   train_loss = 0.366\n",
      "Epoch 184 Batch   12/57   train_loss = 0.348\n",
      "Epoch 184 Batch   42/57   train_loss = 0.299\n",
      "Epoch 185 Batch   15/57   train_loss = 0.328\n",
      "Epoch 185 Batch   45/57   train_loss = 0.368\n",
      "Epoch 186 Batch   18/57   train_loss = 0.357\n",
      "Epoch 186 Batch   48/57   train_loss = 0.364\n",
      "Epoch 187 Batch   21/57   train_loss = 0.330\n",
      "Epoch 187 Batch   51/57   train_loss = 0.337\n",
      "Epoch 188 Batch   24/57   train_loss = 0.333\n",
      "Epoch 188 Batch   54/57   train_loss = 0.366\n",
      "Epoch 189 Batch   27/57   train_loss = 0.368\n",
      "Epoch 190 Batch    0/57   train_loss = 0.349\n",
      "Epoch 190 Batch   30/57   train_loss = 0.310\n",
      "Epoch 191 Batch    3/57   train_loss = 0.343\n",
      "Epoch 191 Batch   33/57   train_loss = 0.342\n",
      "Epoch 192 Batch    6/57   train_loss = 0.332\n",
      "Epoch 192 Batch   36/57   train_loss = 0.352\n",
      "Epoch 193 Batch    9/57   train_loss = 0.310\n",
      "Epoch 193 Batch   39/57   train_loss = 0.356\n",
      "Epoch 194 Batch   12/57   train_loss = 0.345\n",
      "Epoch 194 Batch   42/57   train_loss = 0.291\n",
      "Epoch 195 Batch   15/57   train_loss = 0.320\n",
      "Epoch 195 Batch   45/57   train_loss = 0.342\n",
      "Epoch 196 Batch   18/57   train_loss = 0.344\n",
      "Epoch 196 Batch   48/57   train_loss = 0.358\n",
      "Epoch 197 Batch   21/57   train_loss = 0.340\n",
      "Epoch 197 Batch   51/57   train_loss = 0.339\n",
      "Epoch 198 Batch   24/57   train_loss = 0.352\n",
      "Epoch 198 Batch   54/57   train_loss = 0.381\n",
      "Epoch 199 Batch   27/57   train_loss = 0.385\n",
      "Epoch 200 Batch    0/57   train_loss = 0.378\n",
      "Epoch 200 Batch   30/57   train_loss = 0.359\n",
      "Epoch 201 Batch    3/57   train_loss = 0.355\n",
      "Epoch 201 Batch   33/57   train_loss = 0.373\n",
      "Epoch 202 Batch    6/57   train_loss = 0.344\n",
      "Epoch 202 Batch   36/57   train_loss = 0.354\n",
      "Epoch 203 Batch    9/57   train_loss = 0.314\n",
      "Epoch 203 Batch   39/57   train_loss = 0.355\n",
      "Epoch 204 Batch   12/57   train_loss = 0.344\n",
      "Epoch 204 Batch   42/57   train_loss = 0.290\n",
      "Epoch 205 Batch   15/57   train_loss = 0.317\n",
      "Epoch 205 Batch   45/57   train_loss = 0.342\n",
      "Epoch 206 Batch   18/57   train_loss = 0.334\n",
      "Epoch 206 Batch   48/57   train_loss = 0.352\n",
      "Epoch 207 Batch   21/57   train_loss = 0.321\n",
      "Epoch 207 Batch   51/57   train_loss = 0.325\n",
      "Epoch 208 Batch   24/57   train_loss = 0.326\n",
      "Epoch 208 Batch   54/57   train_loss = 0.357\n",
      "Epoch 209 Batch   27/57   train_loss = 0.348\n",
      "Epoch 210 Batch    0/57   train_loss = 0.336\n",
      "Epoch 210 Batch   30/57   train_loss = 0.298\n",
      "Epoch 211 Batch    3/57   train_loss = 0.313\n",
      "Epoch 211 Batch   33/57   train_loss = 0.325\n",
      "Epoch 212 Batch    6/57   train_loss = 0.319\n",
      "Epoch 212 Batch   36/57   train_loss = 0.332\n",
      "Epoch 213 Batch    9/57   train_loss = 0.289\n",
      "Epoch 213 Batch   39/57   train_loss = 0.333\n",
      "Epoch 214 Batch   12/57   train_loss = 0.329\n",
      "Epoch 214 Batch   42/57   train_loss = 0.271\n",
      "Epoch 215 Batch   15/57   train_loss = 0.293\n",
      "Epoch 215 Batch   45/57   train_loss = 0.323\n",
      "Epoch 216 Batch   18/57   train_loss = 0.318\n",
      "Epoch 216 Batch   48/57   train_loss = 0.330\n",
      "Epoch 217 Batch   21/57   train_loss = 0.307\n",
      "Epoch 217 Batch   51/57   train_loss = 0.311\n",
      "Epoch 218 Batch   24/57   train_loss = 0.307\n",
      "Epoch 218 Batch   54/57   train_loss = 0.336\n",
      "Epoch 219 Batch   27/57   train_loss = 0.336\n",
      "Epoch 220 Batch    0/57   train_loss = 0.326\n",
      "Epoch 220 Batch   30/57   train_loss = 0.291\n",
      "Epoch 221 Batch    3/57   train_loss = 0.304\n",
      "Epoch 221 Batch   33/57   train_loss = 0.317\n",
      "Epoch 222 Batch    6/57   train_loss = 0.312\n",
      "Epoch 222 Batch   36/57   train_loss = 0.322\n",
      "Epoch 223 Batch    9/57   train_loss = 0.286\n",
      "Epoch 223 Batch   39/57   train_loss = 0.321\n",
      "Epoch 224 Batch   12/57   train_loss = 0.310\n",
      "Epoch 224 Batch   42/57   train_loss = 0.260\n",
      "Epoch 225 Batch   15/57   train_loss = 0.288\n",
      "Epoch 225 Batch   45/57   train_loss = 0.316\n",
      "Epoch 226 Batch   18/57   train_loss = 0.311\n",
      "Epoch 226 Batch   48/57   train_loss = 0.323\n",
      "Epoch 227 Batch   21/57   train_loss = 0.299\n",
      "Epoch 227 Batch   51/57   train_loss = 0.308\n",
      "Epoch 228 Batch   24/57   train_loss = 0.307\n",
      "Epoch 228 Batch   54/57   train_loss = 0.328\n",
      "Epoch 229 Batch   27/57   train_loss = 0.329\n",
      "Epoch 230 Batch    0/57   train_loss = 0.320\n",
      "Epoch 230 Batch   30/57   train_loss = 0.289\n",
      "Epoch 231 Batch    3/57   train_loss = 0.303\n",
      "Epoch 231 Batch   33/57   train_loss = 0.316\n",
      "Epoch 232 Batch    6/57   train_loss = 0.309\n",
      "Epoch 232 Batch   36/57   train_loss = 0.324\n",
      "Epoch 233 Batch    9/57   train_loss = 0.287\n",
      "Epoch 233 Batch   39/57   train_loss = 0.321\n",
      "Epoch 234 Batch   12/57   train_loss = 0.312\n",
      "Epoch 234 Batch   42/57   train_loss = 0.265\n",
      "Epoch 235 Batch   15/57   train_loss = 0.287\n",
      "Epoch 235 Batch   45/57   train_loss = 0.314\n",
      "Epoch 236 Batch   18/57   train_loss = 0.312\n",
      "Epoch 236 Batch   48/57   train_loss = 0.315\n",
      "Epoch 237 Batch   21/57   train_loss = 0.294\n",
      "Epoch 237 Batch   51/57   train_loss = 0.305\n",
      "Epoch 238 Batch   24/57   train_loss = 0.303\n",
      "Epoch 238 Batch   54/57   train_loss = 0.335\n",
      "Epoch 239 Batch   27/57   train_loss = 0.337\n",
      "Epoch 240 Batch    0/57   train_loss = 0.353\n",
      "Epoch 240 Batch   30/57   train_loss = 0.309\n",
      "Epoch 241 Batch    3/57   train_loss = 0.330\n",
      "Epoch 241 Batch   33/57   train_loss = 0.375\n",
      "Epoch 242 Batch    6/57   train_loss = 0.340\n",
      "Epoch 242 Batch   36/57   train_loss = 0.433\n",
      "Epoch 243 Batch    9/57   train_loss = 0.341\n",
      "Epoch 243 Batch   39/57   train_loss = 0.370\n",
      "Epoch 244 Batch   12/57   train_loss = 0.369\n",
      "Epoch 244 Batch   42/57   train_loss = 0.292\n",
      "Epoch 245 Batch   15/57   train_loss = 0.315\n",
      "Epoch 245 Batch   45/57   train_loss = 0.321\n",
      "Epoch 246 Batch   18/57   train_loss = 0.315\n",
      "Epoch 246 Batch   48/57   train_loss = 0.321\n",
      "Epoch 247 Batch   21/57   train_loss = 0.295\n",
      "Epoch 247 Batch   51/57   train_loss = 0.301\n",
      "Epoch 248 Batch   24/57   train_loss = 0.297\n",
      "Epoch 248 Batch   54/57   train_loss = 0.327\n",
      "Epoch 249 Batch   27/57   train_loss = 0.322\n",
      "Epoch 250 Batch    0/57   train_loss = 0.313\n",
      "Epoch 250 Batch   30/57   train_loss = 0.282\n",
      "Epoch 251 Batch    3/57   train_loss = 0.300\n",
      "Epoch 251 Batch   33/57   train_loss = 0.307\n",
      "Epoch 252 Batch    6/57   train_loss = 0.308\n",
      "Epoch 252 Batch   36/57   train_loss = 0.320\n",
      "Epoch 253 Batch    9/57   train_loss = 0.282\n",
      "Epoch 253 Batch   39/57   train_loss = 0.322\n",
      "Epoch 254 Batch   12/57   train_loss = 0.306\n",
      "Epoch 254 Batch   42/57   train_loss = 0.258\n",
      "Epoch 255 Batch   15/57   train_loss = 0.290\n",
      "Epoch 255 Batch   45/57   train_loss = 0.310\n",
      "Epoch 256 Batch   18/57   train_loss = 0.307\n",
      "Epoch 256 Batch   48/57   train_loss = 0.312\n",
      "Epoch 257 Batch   21/57   train_loss = 0.293\n",
      "Epoch 257 Batch   51/57   train_loss = 0.301\n",
      "Epoch 258 Batch   24/57   train_loss = 0.293\n",
      "Epoch 258 Batch   54/57   train_loss = 0.326\n",
      "Epoch 259 Batch   27/57   train_loss = 0.319\n",
      "Epoch 260 Batch    0/57   train_loss = 0.311\n",
      "Epoch 260 Batch   30/57   train_loss = 0.283\n",
      "Epoch 261 Batch    3/57   train_loss = 0.297\n",
      "Epoch 261 Batch   33/57   train_loss = 0.308\n",
      "Epoch 262 Batch    6/57   train_loss = 0.302\n",
      "Epoch 262 Batch   36/57   train_loss = 0.322\n",
      "Epoch 263 Batch    9/57   train_loss = 0.278\n",
      "Epoch 263 Batch   39/57   train_loss = 0.318\n",
      "Epoch 264 Batch   12/57   train_loss = 0.301\n",
      "Epoch 264 Batch   42/57   train_loss = 0.256\n",
      "Epoch 265 Batch   15/57   train_loss = 0.287\n",
      "Epoch 265 Batch   45/57   train_loss = 0.303\n",
      "Epoch 266 Batch   18/57   train_loss = 0.302\n",
      "Epoch 266 Batch   48/57   train_loss = 0.310\n",
      "Epoch 267 Batch   21/57   train_loss = 0.292\n",
      "Epoch 267 Batch   51/57   train_loss = 0.300\n",
      "Epoch 268 Batch   24/57   train_loss = 0.290\n",
      "Epoch 268 Batch   54/57   train_loss = 0.322\n",
      "Epoch 269 Batch   27/57   train_loss = 0.317\n",
      "Epoch 270 Batch    0/57   train_loss = 0.308\n",
      "Epoch 270 Batch   30/57   train_loss = 0.277\n",
      "Epoch 271 Batch    3/57   train_loss = 0.292\n",
      "Epoch 271 Batch   33/57   train_loss = 0.301\n",
      "Epoch 272 Batch    6/57   train_loss = 0.298\n",
      "Epoch 272 Batch   36/57   train_loss = 0.320\n",
      "Epoch 273 Batch    9/57   train_loss = 0.277\n",
      "Epoch 273 Batch   39/57   train_loss = 0.313\n",
      "Epoch 274 Batch   12/57   train_loss = 0.298\n",
      "Epoch 274 Batch   42/57   train_loss = 0.252\n",
      "Epoch 275 Batch   15/57   train_loss = 0.281\n",
      "Epoch 275 Batch   45/57   train_loss = 0.305\n",
      "Epoch 276 Batch   18/57   train_loss = 0.300\n",
      "Epoch 276 Batch   48/57   train_loss = 0.310\n",
      "Epoch 277 Batch   21/57   train_loss = 0.291\n",
      "Epoch 277 Batch   51/57   train_loss = 0.297\n",
      "Epoch 278 Batch   24/57   train_loss = 0.288\n",
      "Epoch 278 Batch   54/57   train_loss = 0.317\n",
      "Epoch 279 Batch   27/57   train_loss = 0.314\n",
      "Epoch 280 Batch    0/57   train_loss = 0.307\n",
      "Epoch 280 Batch   30/57   train_loss = 0.277\n",
      "Epoch 281 Batch    3/57   train_loss = 0.289\n",
      "Epoch 281 Batch   33/57   train_loss = 0.299\n",
      "Epoch 282 Batch    6/57   train_loss = 0.297\n",
      "Epoch 282 Batch   36/57   train_loss = 0.321\n",
      "Epoch 283 Batch    9/57   train_loss = 0.278\n",
      "Epoch 283 Batch   39/57   train_loss = 0.316\n",
      "Epoch 284 Batch   12/57   train_loss = 0.295\n",
      "Epoch 284 Batch   42/57   train_loss = 0.254\n",
      "Epoch 285 Batch   15/57   train_loss = 0.288\n",
      "Epoch 285 Batch   45/57   train_loss = 0.304\n",
      "Epoch 286 Batch   18/57   train_loss = 0.303\n",
      "Epoch 286 Batch   48/57   train_loss = 0.316\n",
      "Epoch 287 Batch   21/57   train_loss = 0.295\n",
      "Epoch 287 Batch   51/57   train_loss = 0.308\n",
      "Epoch 288 Batch   24/57   train_loss = 0.297\n",
      "Epoch 288 Batch   54/57   train_loss = 0.333\n",
      "Epoch 289 Batch   27/57   train_loss = 0.346\n",
      "Epoch 290 Batch    0/57   train_loss = 0.321\n",
      "Epoch 290 Batch   30/57   train_loss = 0.289\n",
      "Epoch 291 Batch    3/57   train_loss = 0.324\n",
      "Epoch 291 Batch   33/57   train_loss = 0.323\n",
      "Epoch 292 Batch    6/57   train_loss = 0.311\n",
      "Epoch 292 Batch   36/57   train_loss = 0.335\n",
      "Epoch 293 Batch    9/57   train_loss = 0.302\n",
      "Epoch 293 Batch   39/57   train_loss = 0.319\n",
      "Epoch 294 Batch   12/57   train_loss = 0.306\n",
      "Epoch 294 Batch   42/57   train_loss = 0.263\n",
      "Epoch 295 Batch   15/57   train_loss = 0.286\n",
      "Epoch 295 Batch   45/57   train_loss = 0.305\n",
      "Epoch 296 Batch   18/57   train_loss = 0.300\n",
      "Epoch 296 Batch   48/57   train_loss = 0.310\n",
      "Epoch 297 Batch   21/57   train_loss = 0.291\n",
      "Epoch 297 Batch   51/57   train_loss = 0.298\n",
      "Epoch 298 Batch   24/57   train_loss = 0.286\n",
      "Epoch 298 Batch   54/57   train_loss = 0.317\n",
      "Epoch 299 Batch   27/57   train_loss = 0.315\n",
      "Model Trained and Saved\n"
     ]
    }
   ],
   "source": [
    "\"\"\"\n",
    "DON'T MODIFY ANYTHING IN THIS CELL\n",
    "\"\"\"\n",
    "batches = get_batches(int_text, batch_size, seq_length)\n",
    "\n",
    "with tf.Session(graph=train_graph) as sess:\n",
    "    sess.run(tf.global_variables_initializer())\n",
    "\n",
    "    for epoch_i in range(num_epochs):\n",
    "        state = sess.run(initial_state, {input_text: batches[0][0]})\n",
    "\n",
    "        for batch_i, (x, y) in enumerate(batches):\n",
    "            feed = {\n",
    "                input_text: x,\n",
    "                targets: y,\n",
    "                initial_state: state,\n",
    "                lr: learning_rate}\n",
    "            train_loss, state, _ = sess.run([cost, final_state, train_op], feed)\n",
    "\n",
    "            # Show every <show_every_n_batches> batches\n",
    "            if (epoch_i * len(batches) + batch_i) % show_every_n_batches == 0:\n",
    "                print('Epoch {:>3} Batch {:>4}/{}   train_loss = {:.3f}'.format(\n",
    "                    epoch_i,\n",
    "                    batch_i,\n",
    "                    len(batches),\n",
    "                    train_loss))\n",
    "\n",
    "    # Save Model\n",
    "    saver = tf.train.Saver()\n",
    "    saver.save(sess, save_dir)\n",
    "    print('Model Trained and Saved')"
   ]
  },
  {
   "cell_type": "markdown",
   "metadata": {
    "deletable": true,
    "editable": true
   },
   "source": [
    "## Save Parameters\n",
    "Save `seq_length` and `save_dir` for generating a new TV script."
   ]
  },
  {
   "cell_type": "code",
   "execution_count": 33,
   "metadata": {
    "collapsed": false,
    "deletable": true,
    "editable": true
   },
   "outputs": [],
   "source": [
    "\"\"\"\n",
    "DON'T MODIFY ANYTHING IN THIS CELL\n",
    "\"\"\"\n",
    "# Save parameters for checkpoint\n",
    "helper.save_params((seq_length, save_dir))"
   ]
  },
  {
   "cell_type": "markdown",
   "metadata": {
    "deletable": true,
    "editable": true
   },
   "source": [
    "# Checkpoint"
   ]
  },
  {
   "cell_type": "code",
   "execution_count": 34,
   "metadata": {
    "collapsed": false,
    "deletable": true,
    "editable": true
   },
   "outputs": [],
   "source": [
    "\"\"\"\n",
    "DON'T MODIFY ANYTHING IN THIS CELL\n",
    "\"\"\"\n",
    "import tensorflow as tf\n",
    "import numpy as np\n",
    "import helper\n",
    "import problem_unittests as tests\n",
    "\n",
    "_, vocab_to_int, int_to_vocab, token_dict = helper.load_preprocess()\n",
    "seq_length, load_dir = helper.load_params()"
   ]
  },
  {
   "cell_type": "markdown",
   "metadata": {
    "deletable": true,
    "editable": true
   },
   "source": [
    "## Implement Generate Functions\n",
    "### Get Tensors\n",
    "Get tensors from `loaded_graph` using the function [`get_tensor_by_name()`](https://www.tensorflow.org/api_docs/python/tf/Graph#get_tensor_by_name).  Get the tensors using the following names:\n",
    "- \"input:0\"\n",
    "- \"initial_state:0\"\n",
    "- \"final_state:0\"\n",
    "- \"probs:0\"\n",
    "\n",
    "Return the tensors in the following tuple `(InputTensor, InitialStateTensor, FinalStateTensor, ProbsTensor)` "
   ]
  },
  {
   "cell_type": "code",
   "execution_count": 37,
   "metadata": {
    "collapsed": false,
    "deletable": true,
    "editable": true
   },
   "outputs": [
    {
     "name": "stdout",
     "output_type": "stream",
     "text": [
      "Tests Passed\n"
     ]
    }
   ],
   "source": [
    "def get_tensors(loaded_graph):\n",
    "    \"\"\"\n",
    "    Get input, initial state, final state, and probabilities tensor from <loaded_graph>\n",
    "    :param loaded_graph: TensorFlow graph loaded from file\n",
    "    :return: Tuple (InputTensor, InitialStateTensor, FinalStateTensor, ProbsTensor)\n",
    "    \"\"\"\n",
    "    # TODO: Implement Function\n",
    "## Implement Generate Functions\n",
    "    inputTensor = loaded_graph.get_tensor_by_name(\"input:0\")\n",
    "    initialStateTensor = loaded_graph.get_tensor_by_name(\"initial_state:0\")\n",
    "    finalStateTensor = loaded_graph.get_tensor_by_name(\"final_state:0\")\n",
    "    probsTensor = loaded_graph.get_tensor_by_name(\"probs:0\")\n",
    "    return inputTensor,initialStateTensor,finalStateTensor,probsTensor\n",
    "\n",
    "\n",
    "\"\"\"\n",
    "DON'T MODIFY ANYTHING IN THIS CELL THAT IS BELOW THIS LINE\n",
    "\"\"\"\n",
    "tests.test_get_tensors(get_tensors)"
   ]
  },
  {
   "cell_type": "markdown",
   "metadata": {
    "deletable": true,
    "editable": true
   },
   "source": [
    "### Choose Word\n",
    "Implement the `pick_word()` function to select the next word using `probabilities`."
   ]
  },
  {
   "cell_type": "code",
   "execution_count": 48,
   "metadata": {
    "collapsed": false,
    "deletable": true,
    "editable": true
   },
   "outputs": [
    {
     "name": "stdout",
     "output_type": "stream",
     "text": [
      "Tests Passed\n"
     ]
    }
   ],
   "source": [
    "def pick_word(probabilities, int_to_vocab):\n",
    "    \"\"\"\n",
    "    Pick the next word in the generated text\n",
    "    :param probabilities: Probabilites of the next word\n",
    "    :param int_to_vocab: Dictionary of word ids as the keys and words as the values\n",
    "    :return: String of the predicted word\n",
    "    \"\"\"\n",
    "    # TODO: Implement Function\n",
    "    max_index = probabilities.argmax(axis=0)\n",
    "    next_word = int_to_vocab[max_index]\n",
    "    return next_word\n",
    "\n",
    "\n",
    "\"\"\"\n",
    "DON'T MODIFY ANYTHING IN THIS CELL THAT IS BELOW THIS LINE\n",
    "\"\"\"\n",
    "tests.test_pick_word(pick_word)"
   ]
  },
  {
   "cell_type": "markdown",
   "metadata": {
    "deletable": true,
    "editable": true
   },
   "source": [
    "## Generate TV Script\n",
    "This will generate the TV script for you.  Set `gen_length` to the length of TV script you want to generate."
   ]
  },
  {
   "cell_type": "code",
   "execution_count": 49,
   "metadata": {
    "collapsed": false,
    "deletable": true,
    "editable": true
   },
   "outputs": [
    {
     "name": "stdout",
     "output_type": "stream",
     "text": [
      "moe_szyslak:(lying) oh, it is. it is. just like her outta here.\n",
      "marge_simpson:(jovial)\n",
      "homer_simpson: oh, how precious people said?\n",
      "chief_wiggum: you will, moe? 'cause i haven't like a name for three beer?\n",
      "\n",
      "\n",
      "moe_szyslak:(into phone) hey, hey, what you want in here!\n",
      "moe_szyslak:(quietly) i gotta stop too much before that.\n",
      "moe_szyslak: i did it?\n",
      "moe_szyslak: hey, homer. if you're havin' a banquet for marge, i'd never 'cause and it as here.\n",
      "carl_carlson: hey, i was an idea all better, have.\n",
      "marge_simpson: no. i didn't say this?\n",
      "\n",
      "\n",
      "moe_szyslak: hey, those girls that works.\n",
      "kirk_van_houten: oh marge! no.\n",
      "homer_simpson: hey, where do we go home there?\n",
      "homer_simpson: hey, fat tony... you can hit your own idea.\n",
      "fox_mulder: all right! go!\n",
      "homer_simpson:(drunk, emotional) hey, fat tony!\n",
      "moe_szyslak: moe, you want me\n"
     ]
    }
   ],
   "source": [
    "gen_length = 200\n",
    "# homer_simpson, moe_szyslak, or Barney_Gumble\n",
    "prime_word = 'moe_szyslak'\n",
    "\n",
    "\"\"\"\n",
    "DON'T MODIFY ANYTHING IN THIS CELL THAT IS BELOW THIS LINE\n",
    "\"\"\"\n",
    "loaded_graph = tf.Graph()\n",
    "with tf.Session(graph=loaded_graph) as sess:\n",
    "    # Load saved model\n",
    "    loader = tf.train.import_meta_graph(load_dir + '.meta')\n",
    "    loader.restore(sess, load_dir)\n",
    "\n",
    "    # Get Tensors from loaded model\n",
    "    input_text, initial_state, final_state, probs = get_tensors(loaded_graph)\n",
    "\n",
    "    # Sentences generation setup\n",
    "    gen_sentences = [prime_word + ':']\n",
    "    prev_state = sess.run(initial_state, {input_text: np.array([[1]])})\n",
    "\n",
    "    # Generate sentences\n",
    "    for n in range(gen_length):\n",
    "        # Dynamic Input\n",
    "        dyn_input = [[vocab_to_int[word] for word in gen_sentences[-seq_length:]]]\n",
    "        dyn_seq_length = len(dyn_input[0])\n",
    "\n",
    "        # Get Prediction\n",
    "        probabilities, prev_state = sess.run(\n",
    "            [probs, final_state],\n",
    "            {input_text: dyn_input, initial_state: prev_state})\n",
    "        \n",
    "        pred_word = pick_word(probabilities[dyn_seq_length-1], int_to_vocab)\n",
    "\n",
    "        gen_sentences.append(pred_word)\n",
    "    \n",
    "    # Remove tokens\n",
    "    tv_script = ' '.join(gen_sentences)\n",
    "    for key, token in token_dict.items():\n",
    "        ending = ' ' if key in ['\\n', '(', '\"'] else ''\n",
    "        tv_script = tv_script.replace(' ' + token.lower(), key)\n",
    "    tv_script = tv_script.replace('\\n ', '\\n')\n",
    "    tv_script = tv_script.replace('( ', '(')\n",
    "        \n",
    "    print(tv_script)"
   ]
  },
  {
   "cell_type": "markdown",
   "metadata": {
    "deletable": true,
    "editable": true
   },
   "source": [
    "# The TV Script is Nonsensical\n",
    "It's ok if the TV script doesn't make any sense.  We trained on less than a megabyte of text.  In order to get good results, you'll have to use a smaller vocabulary or get more data.  Luckly there's more data!  As we mentioned in the begging of this project, this is a subset of [another dataset](https://www.kaggle.com/wcukierski/the-simpsons-by-the-data).  We didn't have you train on all the data, because that would take too long.  However, you are free to train your neural network on all the data.  After you complete the project, of course.\n",
    "# Submitting This Project\n",
    "When submitting this project, make sure to run all the cells before saving the notebook. Save the notebook file as \"dlnd_tv_script_generation.ipynb\" and save it as a HTML file under \"File\" -> \"Download as\". Include the \"helper.py\" and \"problem_unittests.py\" files in your submission."
   ]
  }
 ],
 "metadata": {
  "kernelspec": {
   "display_name": "Python 3",
   "language": "python",
   "name": "python3"
  },
  "language_info": {
   "codemirror_mode": {
    "name": "ipython",
    "version": 3
   },
   "file_extension": ".py",
   "mimetype": "text/x-python",
   "name": "python",
   "nbconvert_exporter": "python",
   "pygments_lexer": "ipython3",
   "version": "3.5.2"
  }
 },
 "nbformat": 4,
 "nbformat_minor": 0
}
