{
 "cells": [
  {
   "cell_type": "markdown",
   "metadata": {
    "collapsed": true
   },
   "source": [
    "# Image Classification\n",
    "In this project, you'll classify images from the [CIFAR-10 dataset](https://www.cs.toronto.edu/~kriz/cifar.html).  The dataset consists of airplanes, dogs, cats, and other objects. You'll preprocess the images, then train a convolutional neural network on all the samples. The images need to be normalized and the labels need to be one-hot encoded.  You'll get to apply what you learned and build a convolutional, max pooling, dropout, and fully connected layers.  At the end, you'll get to see your neural network's predictions on the sample images.\n",
    "## Get the Data\n",
    "Run the following cell to download the [CIFAR-10 dataset for python](https://www.cs.toronto.edu/~kriz/cifar-10-python.tar.gz)."
   ]
  },
  {
   "cell_type": "code",
   "execution_count": 78,
   "metadata": {
    "collapsed": false
   },
   "outputs": [
    {
     "name": "stdout",
     "output_type": "stream",
     "text": [
      "All files found!\n"
     ]
    }
   ],
   "source": [
    "\"\"\"\n",
    "DON'T MODIFY ANYTHING IN THIS CELL THAT IS BELOW THIS LINE\n",
    "\"\"\"\n",
    "from urllib.request import urlretrieve\n",
    "from os.path import isfile, isdir\n",
    "from tqdm import tqdm\n",
    "import problem_unittests as tests\n",
    "import tarfile\n",
    "\n",
    "cifar10_dataset_folder_path = 'cifar-10-batches-py'\n",
    "\n",
    "class DLProgress(tqdm):\n",
    "    last_block = 0\n",
    "\n",
    "    def hook(self, block_num=1, block_size=1, total_size=None):\n",
    "        self.total = total_size\n",
    "        self.update((block_num - self.last_block) * block_size)\n",
    "        self.last_block = block_num\n",
    "\n",
    "if not isfile('cifar-10-python.tar.gz'):\n",
    "    with DLProgress(unit='B', unit_scale=True, miniters=1, desc='CIFAR-10 Dataset') as pbar:\n",
    "        urlretrieve(\n",
    "            'https://www.cs.toronto.edu/~kriz/cifar-10-python.tar.gz',\n",
    "            'cifar-10-python.tar.gz',\n",
    "            pbar.hook)\n",
    "\n",
    "if not isdir(cifar10_dataset_folder_path):\n",
    "    with tarfile.open('cifar-10-python.tar.gz') as tar:\n",
    "        tar.extractall()\n",
    "        tar.close()\n",
    "\n",
    "\n",
    "tests.test_folder_path(cifar10_dataset_folder_path)"
   ]
  },
  {
   "cell_type": "markdown",
   "metadata": {},
   "source": [
    "## Explore the Data\n",
    "The dataset is broken into batches to prevent your machine from running out of memory.  The CIFAR-10 dataset consists of 5 batches, named `data_batch_1`, `data_batch_2`, etc.. Each batch contains the labels and images that are one of the following:\n",
    "* airplane\n",
    "* automobile\n",
    "* bird\n",
    "* cat\n",
    "* deer\n",
    "* dog\n",
    "* frog\n",
    "* horse\n",
    "* ship\n",
    "* truck\n",
    "\n",
    "Understanding a dataset is part of making predictions on the data.  Play around with the code cell below by changing the `batch_id` and `sample_id`. The `batch_id` is the id for a batch (1-5). The `sample_id` is the id for a image and label pair in the batch.\n",
    "\n",
    "Ask yourself \"What are all possible labels?\", \"What is the range of values for the image data?\", \"Are the labels in order or random?\".  Answers to questions like these will help you preprocess the data and end up with better predictions."
   ]
  },
  {
   "cell_type": "code",
   "execution_count": 79,
   "metadata": {
    "collapsed": false
   },
   "outputs": [
    {
     "name": "stdout",
     "output_type": "stream",
     "text": [
      "\n",
      "Stats of batch 1:\n",
      "Samples: 10000\n",
      "Label Counts: {0: 1005, 1: 974, 2: 1032, 3: 1016, 4: 999, 5: 937, 6: 1030, 7: 1001, 8: 1025, 9: 981}\n",
      "First 20 Labels: [6, 9, 9, 4, 1, 1, 2, 7, 8, 3, 4, 7, 7, 2, 9, 9, 9, 3, 2, 6]\n",
      "\n",
      "Example of Image 10:\n",
      "Image - Min Value: 24 Max Value: 130\n",
      "Image - Shape: (32, 32, 3)\n",
      "Label - Label Id: 4 Name: deer\n"
     ]
    },
    {
     "data": {
      "image/png": "[encoded data removed]",
      "text/plain": [
       "<matplotlib.figure.Figure at 0x9e38f28>"
      ]
     },
     "metadata": {
      "image/png": {
       "height": 250,
       "width": 253
      }
     },
     "output_type": "display_data"
    }
   ],
   "source": [
    "%matplotlib inline\n",
    "%config InlineBackend.figure_format = 'retina'\n",
    "\n",
    "import helper\n",
    "import numpy as np\n",
    "\n",
    "# Explore the dataset\n",
    "batch_id = 1\n",
    "sample_id = 10\n",
    "helper.display_stats(cifar10_dataset_folder_path, batch_id, sample_id)"
   ]
  },
  {
   "cell_type": "markdown",
   "metadata": {},
   "source": [
    "## Implement Preprocess Functions\n",
    "### Normalize\n",
    "In the cell below, implement the `normalize` function to take in image data, `x`, and return it as a normalized Numpy array. The values should be in the range of 0 to 1, inclusive.  The return object should be the same shape as `x`."
   ]
  },
  {
   "cell_type": "code",
   "execution_count": 80,
   "metadata": {
    "collapsed": false
   },
   "outputs": [
    {
     "name": "stdout",
     "output_type": "stream",
     "text": [
      "Tests Passed\n"
     ]
    }
   ],
   "source": [
    "def normalize(x):\n",
    "    \"\"\"\n",
    "    Normalize a list of sample image data in the range of 0 to 1\n",
    "    : x: List of image data.  The image shape is (32, 32, 3)\n",
    "    : return: Numpy array of normalize data\n",
    "    \"\"\"\n",
    "    # TODO: Implement Function\n",
    "    #\n",
    "    min_v = 0\n",
    "    max_v = 255\n",
    "    normalize=(x-min_v)/(max_v-min_v)\n",
    "    #print((x.shape))\n",
    "    return normalize\n",
    "\n",
    "\n",
    "\"\"\"\n",
    "DON'T MODIFY ANYTHING IN THIS CELL THAT IS BELOW THIS LINE\n",
    "\"\"\"\n",
    "tests.test_normalize(normalize)"
   ]
  },
  {
   "cell_type": "markdown",
   "metadata": {},
   "source": [
    "### One-hot encode\n",
    "Just like the previous code cell, you'll be implementing a function for preprocessing.  This time, you'll implement the `one_hot_encode` function. The input, `x`, are a list of labels.  Implement the function to return the list of labels as One-Hot encoded Numpy array.  The possible values for labels are 0 to 9. The one-hot encoding function should return the same encoding for each value between each call to `one_hot_encode`.  Make sure to save the map of encodings outside the function.\n",
    "\n",
    "Hint: Don't reinvent the wheel."
   ]
  },
  {
   "cell_type": "code",
   "execution_count": 81,
   "metadata": {
    "collapsed": false
   },
   "outputs": [
    {
     "name": "stdout",
     "output_type": "stream",
     "text": [
      "Tests Passed\n"
     ]
    }
   ],
   "source": [
    "def one_hot_encode(x):\n",
    "    \"\"\"\n",
    "    One hot encode a list of sample labels. Return a one-hot encoded vector for each label.\n",
    "    : x: List of sample Labels\n",
    "    : return: Numpy array of one-hot encoded labels\n",
    "    \"\"\"\n",
    "    # TODO: Implement Function\n",
    "    from sklearn.preprocessing import LabelBinarizer\n",
    "    labels = helper._load_label_names()\n",
    "    lb = LabelBinarizer()\n",
    "    lb.fit(x)\n",
    "    lb.classes_ = list(range(len(labels)))\n",
    "    #print(len(labels))\n",
    "    #print(lb.transform(x))\n",
    "    one_hot = lb.transform(x) \n",
    "    return one_hot\n",
    "\n",
    "\n",
    "\"\"\"\n",
    "DON'T MODIFY ANYTHING IN THIS CELL THAT IS BELOW THIS LINE\n",
    "\"\"\"\n",
    "#print(one_hot_encode)\n",
    "tests.test_one_hot_encode(one_hot_encode)"
   ]
  },
  {
   "cell_type": "markdown",
   "metadata": {},
   "source": [
    "### Randomize Data\n",
    "As you saw from exploring the data above, the order of the samples are randomized.  It doesn't hurt to randomize it again, but you don't need to for this dataset."
   ]
  },
  {
   "cell_type": "markdown",
   "metadata": {},
   "source": [
    "## Preprocess all the data and save it\n",
    "Running the code cell below will preprocess all the CIFAR-10 data and save it to file. The code below also uses 10% of the training data for validation."
   ]
  },
  {
   "cell_type": "code",
   "execution_count": 82,
   "metadata": {
    "collapsed": false
   },
   "outputs": [],
   "source": [
    "\"\"\"\n",
    "DON'T MODIFY ANYTHING IN THIS CELL\n",
    "\"\"\"\n",
    "# Preprocess Training, Validation, and Testing Data\n",
    "helper.preprocess_and_save_data(cifar10_dataset_folder_path, normalize, one_hot_encode)"
   ]
  },
  {
   "cell_type": "markdown",
   "metadata": {},
   "source": [
    "# Check Point\n",
    "This is your first checkpoint.  If you ever decide to come back to this notebook or have to restart the notebook, you can start from here.  The preprocessed data has been saved to disk."
   ]
  },
  {
   "cell_type": "code",
   "execution_count": 83,
   "metadata": {
    "collapsed": true
   },
   "outputs": [],
   "source": [
    "\"\"\"\n",
    "DON'T MODIFY ANYTHING IN THIS CELL\n",
    "\"\"\"\n",
    "import pickle\n",
    "import problem_unittests as tests\n",
    "import helper\n",
    "\n",
    "# Load the Preprocessed Validation data\n",
    "valid_features, valid_labels = pickle.load(open('preprocess_validation.p', mode='rb'))"
   ]
  },
  {
   "cell_type": "markdown",
   "metadata": {},
   "source": [
    "## Build the network\n",
    "For the neural network, you'll build each layer into a function.  Most of the code you've seen has been outside of functions. To test your code more thoroughly, we require that you put each layer in a function.  This allows us to give you better feedback and test for simple mistakes using our unittests before you submit your project.\n",
    "\n",
    "If you're finding it hard to dedicate enough time for this course a week, we've provided a small shortcut to this part of the project. In the next couple of problems, you'll have the option to use [TensorFlow Layers](https://www.tensorflow.org/api_docs/python/tf/layers) or [TensorFlow Layers (contrib)](https://www.tensorflow.org/api_guides/python/contrib.layers) to build each layer, except \"Convolutional & Max Pooling\" layer.  TF Layers is similar to Keras's and TFLearn's abstraction to layers, so it's easy to pickup.\n",
    "\n",
    "If you would like to get the most of this course, try to solve all the problems without TF Layers.  Let's begin!\n",
    "### Input\n",
    "The neural network needs to read the image data, one-hot encoded labels, and dropout keep probability. Implement the following functions\n",
    "* Implement `neural_net_image_input`\n",
    " * Return a [TF Placeholder](https://www.tensorflow.org/api_docs/python/tf/placeholder)\n",
    " * Set the shape using `image_shape` with batch size set to `None`.\n",
    " * Name the TensorFlow placeholder \"x\" using the TensorFlow `name` parameter in the [TF Placeholder](https://www.tensorflow.org/api_docs/python/tf/placeholder).\n",
    "* Implement `neural_net_label_input`\n",
    " * Return a [TF Placeholder](https://www.tensorflow.org/api_docs/python/tf/placeholder)\n",
    " * Set the shape using `n_classes` with batch size set to `None`.\n",
    " * Name the TensorFlow placeholder \"y\" using the TensorFlow `name` parameter in the [TF Placeholder](https://www.tensorflow.org/api_docs/python/tf/placeholder).\n",
    "* Implement `neural_net_keep_prob_input`\n",
    " * Return a [TF Placeholder](https://www.tensorflow.org/api_docs/python/tf/placeholder) for dropout keep probability.\n",
    " * Name the TensorFlow placeholder \"keep_prob\" using the TensorFlow `name` parameter in the [TF Placeholder](https://www.tensorflow.org/api_docs/python/tf/placeholder).\n",
    "\n",
    "These names will be used at the end of the project to load your saved model.\n",
    "\n",
    "Note: `None` for shapes in TensorFlow allow for a dynamic size."
   ]
  },
  {
   "cell_type": "code",
   "execution_count": 84,
   "metadata": {
    "collapsed": false
   },
   "outputs": [
    {
     "name": "stdout",
     "output_type": "stream",
     "text": [
      "Image Input Tests Passed.\n",
      "Label Input Tests Passed.\n",
      "Keep Prob Tests Passed.\n"
     ]
    }
   ],
   "source": [
    "import tensorflow as tf\n",
    "\n",
    "def neural_net_image_input(image_shape):\n",
    "    \"\"\"\n",
    "    Return a Tensor for a bach of image input\n",
    "    : image_shape: Shape of the images\n",
    "    : return: Tensor for image input.\n",
    "    \"\"\"\n",
    "    # TODO: Implement Function\n",
    "    #DGH Have to add None to represent the batch size in a list\n",
    "    image_shape = list(image_shape)\n",
    "    image_shape.insert(0,None)\n",
    "    #print(image_shape)\n",
    "    x = tf.placeholder(tf.float32, shape=image_shape, name='x')\n",
    "    return x\n",
    "\n",
    "\n",
    "def neural_net_label_input(n_classes):\n",
    "    \"\"\"\n",
    "    Return a Tensor for a batch of label input\n",
    "    : n_classes: Number of classes\n",
    "    : return: Tensor for label input.\n",
    "    \"\"\"\n",
    "    # TODO: Implement Function\n",
    "    #DGH Have to add None to represent the batch size in a list\n",
    "    n_classes_list = [None,n_classes]\n",
    "    y = tf.placeholder(tf.float32, shape=n_classes_list, name='y')\n",
    "    return y\n",
    "\n",
    "\n",
    "def neural_net_keep_prob_input():\n",
    "    \"\"\"\n",
    "    Return a Tensor for keep probability\n",
    "    : return: Tensor for keep probability.\n",
    "    \"\"\"\n",
    "    # TODO: Implement Function\n",
    "    #DGH This is just a scalar value so no shape needed  \n",
    "    keep_prob = tf.placeholder(tf.float32, name='keep_prob')\n",
    "    return keep_prob\n",
    "\n",
    "\n",
    "\"\"\"\n",
    "DON'T MODIFY ANYTHING IN THIS CELL THAT IS BELOW THIS LINE\n",
    "\"\"\"\n",
    "tf.reset_default_graph()\n",
    "tests.test_nn_image_inputs(neural_net_image_input)\n",
    "tests.test_nn_label_inputs(neural_net_label_input)\n",
    "tests.test_nn_keep_prob_inputs(neural_net_keep_prob_input)"
   ]
  },
  {
   "cell_type": "markdown",
   "metadata": {},
   "source": [
    "### Convolution and Max Pooling Layer\n",
    "Convolution layers have a lot of success with images. For this code cell, you should implement the function `conv2d_maxpool` to apply convolution then max pooling:\n",
    "* Create the weight and bias using `conv_ksize`, `conv_num_outputs` and the shape of `x_tensor`.\n",
    "* Apply a convolution to `x_tensor` using weight and `conv_strides`.\n",
    " * We recommend you use same padding, but you're welcome to use any padding.\n",
    "* Add bias\n",
    "* Add a nonlinear activation to the convolution.\n",
    "* Apply Max Pooling using `pool_ksize` and `pool_strides`.\n",
    " * We recommend you use same padding, but you're welcome to use any padding.\n",
    "\n",
    "Note: You **can't** use [TensorFlow Layers](https://www.tensorflow.org/api_docs/python/tf/layers) or [TensorFlow Layers (contrib)](https://www.tensorflow.org/api_guides/python/contrib.layers) for this layer.  You're free to use any TensorFlow package for all the other layers."
   ]
  },
  {
   "cell_type": "code",
   "execution_count": 101,
   "metadata": {
    "collapsed": false
   },
   "outputs": [
    {
     "name": "stdout",
     "output_type": "stream",
     "text": [
      "Tests Passed\n"
     ]
    }
   ],
   "source": [
    "def conv2d_maxpool(x_tensor, conv_num_outputs, conv_ksize, conv_strides, pool_ksize, pool_strides):\n",
    "    \"\"\"\n",
    "    Apply convolution then max pooling to x_tensor\n",
    "    :param x_tensor: TensorFlow Tensor\n",
    "    :param conv_num_outputs: Number of outputs for the convolutional layer\n",
    "    :param conv_strides: Stride 2-D Tuple for convolution\n",
    "    :param pool_ksize: kernal size 2-D Tuple for pool\n",
    "    :param pool_strides: Stride 2-D Tuple for pool\n",
    "    : return: A tensor that represents convolution and max pooling of x_tensor\n",
    "    \"\"\"\n",
    "    # TODO: Implement Function\n",
    "    #Create the weight and bias using conv_ksize, conv_num_outputs and the shape of x_tensor.\n",
    "    k_h = conv_ksize[0]\n",
    "    k_w = conv_ksize[1]\n",
    "    mean_v = 0.0\n",
    "    stddev_v = .1\n",
    "    \n",
    "    tensor_depth = x_tensor.shape[3].value\n",
    "      \n",
    "    W = tf.Variable(tf.truncated_normal([k_h, k_w, tensor_depth, conv_num_outputs],mean=mean_v,stddev=stddev_v)) #Weight\n",
    "    b = tf.Variable(tf.random_normal([conv_num_outputs], mean=mean_v, stddev=stddev_v))\n",
    "   \n",
    "    #We are generally always going to set the stride for batch and input_channels \n",
    "        #(i.e. the first and fourth element in the strides array) to be 1.\n",
    "    general_strides = [1,conv_strides[0],conv_strides[1],1]\n",
    "    general_strides_maxpool = [1,pool_strides[0],pool_strides[1],1]\n",
    "    ksize_maxpool = [1,pool_ksize[0],pool_ksize[1],1]\n",
    "    neural_net = tf.nn.conv2d(x_tensor, W, strides=general_strides, padding='SAME')\n",
    "    neural_net = tf.nn.bias_add(neural_net, b)\n",
    "    neural_net = tf.nn.relu(neural_net)\n",
    "    neural_net = tf.nn.max_pool(neural_net, ksize=ksize_maxpool, strides=general_strides_maxpool, padding='SAME')\n",
    "    return neural_net\n",
    "    \n",
    "\n",
    "\n",
    "\"\"\"\n",
    "DON'T MODIFY ANYTHING IN THIS CELL THAT IS BELOW THIS LINE\n",
    "\"\"\"\n",
    "tests.test_con_pool(conv2d_maxpool)"
   ]
  },
  {
   "cell_type": "markdown",
   "metadata": {},
   "source": [
    "### Flatten Layer\n",
    "Implement the `flatten` function to change the dimension of `x_tensor` from a 4-D tensor to a 2-D tensor.  The output should be the shape (*Batch Size*, *Flattened Image Size*). You can use [TensorFlow Layers](https://www.tensorflow.org/api_docs/python/tf/layers) or [TensorFlow Layers (contrib)](https://www.tensorflow.org/api_guides/python/contrib.layers) for this layer."
   ]
  },
  {
   "cell_type": "code",
   "execution_count": 102,
   "metadata": {
    "collapsed": false
   },
   "outputs": [
    {
     "name": "stdout",
     "output_type": "stream",
     "text": [
      "Tests Passed\n"
     ]
    }
   ],
   "source": [
    "def flatten(x_tensor):\n",
    "    \"\"\"\n",
    "    Flatten x_tensor to (Batch Size, Flattened Image Size)\n",
    "    : x_tensor: A tensor of size (Batch Size, ...), where ... are the image dimensions.\n",
    "    : return: A tensor of size (Batch Size, Flattened Image Size).\n",
    "    \"\"\"\n",
    "    # TODO: Implement Function\n",
    "    #Had to convert to a list instead of a TensorShape\n",
    "    shape = (x_tensor.get_shape().as_list())\n",
    "    #Exclude the index 0 item because that is the batch size in the shape list\n",
    "    #Multiply all items in the list together (except index 0) to create size of flat dimension\n",
    "    dim_flat = np.prod(shape[1:])\n",
    "    new_shape = [-1, dim_flat]\n",
    "    \n",
    "    flat_tensor = tf.reshape(x_tensor, new_shape, name=None)\n",
    "    return flat_tensor\n",
    "\"\"\"\n",
    "DON'T MODIFY ANYTHING IN THIS CELL THAT IS BELOW THIS LINE\n",
    "\"\"\"\n",
    "tests.test_flatten(flatten)"
   ]
  },
  {
   "cell_type": "markdown",
   "metadata": {},
   "source": [
    "### Fully-Connected Layer\n",
    "Implement the `fully_conn` function to apply a fully connected layer to `x_tensor` with the shape (*Batch Size*, *num_outputs*). You can use [TensorFlow Layers](https://www.tensorflow.org/api_docs/python/tf/layers) or [TensorFlow Layers (contrib)](https://www.tensorflow.org/api_guides/python/contrib.layers) for this layer."
   ]
  },
  {
   "cell_type": "code",
   "execution_count": 103,
   "metadata": {
    "collapsed": false
   },
   "outputs": [
    {
     "name": "stdout",
     "output_type": "stream",
     "text": [
      "Tests Passed\n"
     ]
    }
   ],
   "source": [
    "def fully_conn(x_tensor, num_outputs):\n",
    "    \"\"\"\n",
    "    Apply a fully connected layer to x_tensor using weight and bias\n",
    "    : x_tensor: A 2-D tensor where the first dimension is batch size.\n",
    "    : num_outputs: The number of output that the new tensor should be.\n",
    "    : return: A 2-D tensor where the second dimension is num_outputs.\n",
    "    \"\"\"\n",
    "    # TODO: Implement Function\n",
    "    mean_v = 0.0\n",
    "    stddev_v = .1\n",
    "    batch = x_tensor.get_shape().as_list()[0]\n",
    "    #num_inputs is second dimension of the tensor\n",
    "    num_inputs = x_tensor.get_shape().as_list()[1]\n",
    "    \n",
    "    #Randomly setting weights in a matrix that is of size  num_inputs x num_outputs \n",
    "    W = tf.Variable(tf.truncated_normal((x_tensor.get_shape().as_list()[1], num_outputs),mean=mean_v,stddev=stddev_v))\n",
    "    #Randomly setting bias that is of size num_outputs that is added to each dot prod of x_tensor x W\n",
    "    b = tf.Variable(tf.random_normal([num_outputs], mean=mean_v, stddev=stddev_v))\n",
    "    \n",
    "    fc1 = tf.add(tf.matmul(x_tensor, W), b)\n",
    "    fc1 = tf.nn.relu(fc1)\n",
    "    fc1 = tf.nn.dropout(fc1, keep_prob)\n",
    "        \n",
    "    return fc1\n",
    "\n",
    "\n",
    "\"\"\"\n",
    "DON'T MODIFY ANYTHING IN THIS CELL THAT IS BELOW THIS LINE\n",
    "\"\"\"\n",
    "tests.test_fully_conn(fully_conn)"
   ]
  },
  {
   "cell_type": "markdown",
   "metadata": {},
   "source": [
    "### Output Layer\n",
    "Implement the `output` function to apply a fully connected layer to `x_tensor` with the shape (*Batch Size*, *num_outputs*). You can use [TensorFlow Layers](https://www.tensorflow.org/api_docs/python/tf/layers) or [TensorFlow Layers (contrib)](https://www.tensorflow.org/api_guides/python/contrib.layers) for this layer.\n",
    "\n",
    "Note: Activation, softmax, or cross entropy shouldn't be applied to this."
   ]
  },
  {
   "cell_type": "code",
   "execution_count": 107,
   "metadata": {
    "collapsed": false
   },
   "outputs": [
    {
     "name": "stdout",
     "output_type": "stream",
     "text": [
      "Tests Passed\n"
     ]
    }
   ],
   "source": [
    "def output(x_tensor, num_outputs):\n",
    "    \"\"\"\n",
    "    Apply a output layer to x_tensor using weight and bias\n",
    "    : x_tensor: A 2-D tensor where the first dimension is batch size.\n",
    "    : num_outputs: The number of output that the new tensor should be.\n",
    "    : return: A 2-D tensor where the second dimension is num_outputs.\n",
    "    \"\"\"\n",
    "    # TODO: Implement Function\n",
    "    #print(x_tensor,num_outputs)\n",
    "    stddev_v = .1\n",
    "    mean_v = 0.0\n",
    "    batch = x_tensor.get_shape().as_list()[0]\n",
    "    #num_inputs is second dimension of the tensor\n",
    "    num_inputs = x_tensor.get_shape().as_list()[1]\n",
    "    \n",
    "    #Randomly setting weights in a matrix that is of size  num_inputs x num_outputs \n",
    "    #W = tf.Variable(tf.random_normal([num_inputs,num_outputs],stddev=stddev_value)) #Weight\n",
    "    W = tf.Variable(tf.truncated_normal([num_inputs,num_outputs],mean=mean_v,stddev=stddev_v)) #Weight\n",
    "    #Randomly setting bias that is of size num_outputs that is added to each dot prod of x_tensor x W\n",
    "    b = tf.Variable(tf.random_normal([num_outputs], mean=mean_v, stddev=stddev_v))\n",
    "    out_layer = tf.add(tf.matmul(x_tensor, W), b)\n",
    "    return out_layer\n",
    "\n",
    "\n",
    "\"\"\"\n",
    "DON'T MODIFY ANYTHING IN THIS CELL THAT IS BELOW THIS LINE\n",
    "\"\"\"\n",
    "tests.test_output(output)"
   ]
  },
  {
   "cell_type": "markdown",
   "metadata": {},
   "source": [
    "### Create Convolutional Model\n",
    "Implement the function `conv_net` to create a convolutional neural network model. The function takes in a batch of images, `x`, and outputs logits.  Use the layers you created above to create this model:\n",
    "\n",
    "* Apply 1, 2, or 3 Convolution and Max Pool layers\n",
    "* Apply a Flatten Layer\n",
    "* Apply 1, 2, or 3 Fully Connected Layers\n",
    "* Apply an Output Layer\n",
    "* Return the output\n",
    "* Apply [TensorFlow's Dropout](https://www.tensorflow.org/api_docs/python/tf/nn/dropout) to one or more layers in the model using `keep_prob`. "
   ]
  },
  {
   "cell_type": "code",
   "execution_count": 108,
   "metadata": {
    "collapsed": false
   },
   "outputs": [
    {
     "name": "stdout",
     "output_type": "stream",
     "text": [
      "Neural Network Built!\n"
     ]
    }
   ],
   "source": [
    "def conv_net(x, keep_prob):\n",
    "    \"\"\"\n",
    "    Create a convolutional neural network model\n",
    "    : x: Placeholder tensor that holds image data.\n",
    "    : keep_prob: Placeholder tensor that hold dropout keep probability.\n",
    "    : return: Tensor that represents logits\n",
    "    \"\"\"\n",
    "    # TODO: Apply 1, 2, or 3 Convolution and Max Pool layers\n",
    "    #    Play around with different number of outputs, kernel size and stride\n",
    "    # Function Definition from Above:\n",
    "    #    conv2d_maxpool(x_tensor, conv_num_outputs, conv_ksize, conv_strides, pool_ksize, pool_strides)\n",
    "    conv_num_outputs = [16,32,32]\n",
    "    num_outputs = 10\n",
    "    conv_ksize = (3,3)\n",
    "    conv_strides = (1,1)\n",
    "    pool_ksize = (3,3)\n",
    "    pool_strides = (2,2)\n",
    "    \n",
    "    #conv_ksize = (3,3)\n",
    "    #conv_strides = (1,1)\n",
    "    #pool_ksize = (3,3)\n",
    "    #pool_strides = (2,2)\n",
    "    #num_outputs = 10\n",
    "    #keep_prob = 0.5\n",
    "    \n",
    "    #DGH I tried adding more conv layers but when I did, python would always crash my laptop and I dont have\n",
    "    #Amazon coupon yet...\n",
    "    #\n",
    "    neural_net = conv2d_maxpool(x, conv_num_outputs[0], conv_ksize, conv_strides, pool_ksize, pool_strides)\n",
    "    neural_net = conv2d_maxpool(neural_net, conv_num_outputs[1], (1,1), (1,1), (3,3), (1,1))\n",
    "    \n",
    "    # TODO: Apply a Flatten Layer\n",
    "    # Function Definition from Above:\n",
    "    neural_net = flatten(neural_net)\n",
    "    \n",
    "    # TODO: Apply 1, 2, or 3 Fully Connected Layers\n",
    "    #    Play around with different number of outputs\n",
    "    # Function Definition from Above:\n",
    "    #   fully_conn(x_tensor, num_outputs)\n",
    "    fc_node_output = [100,200,300] #worked pretty well\n",
    "    #fc_node_output = [500,1000,1500] #seeing if will crash\n",
    "    #fc_node_output = [1000,2000,4000] #seeing if will crash\n",
    "    #neural_net = fully_conn(neural_net,num_outputs)\n",
    "    neural_net = fully_conn(neural_net,fc_node_output[0])\n",
    "    neural_net = fully_conn(neural_net,fc_node_output[1])\n",
    "    neural_net = fully_conn(neural_net,fc_node_output[2])\n",
    "    \n",
    "    # TODO: Apply an Output Layer\n",
    "    #    Set this to the number of classes\n",
    "    # Function Definition from Above:\n",
    "    #   output(x_tensor, num_outputs)\n",
    "    neural_net = output(neural_net,num_outputs)\n",
    "    # TODO: return output\n",
    "    return neural_net\n",
    "\n",
    "\n",
    "\"\"\"\n",
    "DON'T MODIFY ANYTHING IN THIS CELL THAT IS BELOW THIS LINE\n",
    "\"\"\"\n",
    "\n",
    "##############################\n",
    "## Build the Neural Network ##\n",
    "##############################\n",
    "\n",
    "# Remove previous weights, bias, inputs, etc..\n",
    "tf.reset_default_graph()\n",
    "\n",
    "# Inputs\n",
    "x = neural_net_image_input((32, 32, 3))\n",
    "y = neural_net_label_input(10)\n",
    "keep_prob = neural_net_keep_prob_input()\n",
    "\n",
    "# Model\n",
    "logits = conv_net(x, keep_prob)\n",
    "\n",
    "# Name logits Tensor, so that is can be loaded from disk after training\n",
    "logits = tf.identity(logits, name='logits')\n",
    "\n",
    "# Loss and Optimizer\n",
    "cost = tf.reduce_mean(tf.nn.softmax_cross_entropy_with_logits(logits=logits, labels=y))\n",
    "optimizer = tf.train.AdamOptimizer().minimize(cost)\n",
    "\n",
    "# Accuracy\n",
    "correct_pred = tf.equal(tf.argmax(logits, 1), tf.argmax(y, 1))\n",
    "accuracy = tf.reduce_mean(tf.cast(correct_pred, tf.float32), name='accuracy')\n",
    "\n",
    "tests.test_conv_net(conv_net)"
   ]
  },
  {
   "cell_type": "markdown",
   "metadata": {},
   "source": [
    "## Train the Neural Network\n",
    "### Single Optimization\n",
    "Implement the function `train_neural_network` to do a single optimization.  The optimization should use `optimizer` to optimize in `session` with a `feed_dict` of the following:\n",
    "* `x` for image input\n",
    "* `y` for labels\n",
    "* `keep_prob` for keep probability for dropout\n",
    "\n",
    "This function will be called for each batch, so `tf.global_variables_initializer()` has already been called.\n",
    "\n",
    "Note: Nothing needs to be returned. This function is only optimizing the neural network."
   ]
  },
  {
   "cell_type": "code",
   "execution_count": 109,
   "metadata": {
    "collapsed": false
   },
   "outputs": [
    {
     "name": "stdout",
     "output_type": "stream",
     "text": [
      "Tests Passed\n"
     ]
    }
   ],
   "source": [
    "def train_neural_network(session, optimizer, keep_probability, feature_batch, label_batch):\n",
    "    \"\"\"\n",
    "    Optimize the session on a batch of images and labels\n",
    "    : session: Current TensorFlow session\n",
    "    : optimizer: TensorFlow optimizer function\n",
    "    : keep_probability: keep probability\n",
    "    : feature_batch: Batch of Numpy image data\n",
    "    : label_batch: Batch of Numpy label data\n",
    "    \"\"\"\n",
    "    # TODO: Implement Function\n",
    "    session.run(optimizer, feed_dict={x: feature_batch, y: label_batch, keep_prob: keep_probability})\n",
    "    \n",
    "\n",
    "\n",
    "\"\"\"\n",
    "DON'T MODIFY ANYTHING IN THIS CELL THAT IS BELOW THIS LINE\n",
    "\"\"\"\n",
    "tests.test_train_nn(train_neural_network)"
   ]
  },
  {
   "cell_type": "markdown",
   "metadata": {},
   "source": [
    "### Show Stats\n",
    "Implement the function `print_stats` to print loss and validation accuracy.  Use the global variables `valid_features` and `valid_labels` to calculate validation accuracy.  Use a keep probability of `1.0` to calculate the loss and validation accuracy."
   ]
  },
  {
   "cell_type": "code",
   "execution_count": 110,
   "metadata": {
    "collapsed": false
   },
   "outputs": [],
   "source": [
    "def print_stats(session, feature_batch, label_batch, cost, accuracy):\n",
    "    \"\"\"\n",
    "    Print information about loss and validation accuracy\n",
    "    : session: Current TensorFlow session\n",
    "    : feature_batch: Batch of Numpy image data\n",
    "    : label_batch: Batch of Numpy label data\n",
    "    : cost: TensorFlow cost function\n",
    "    : accuracy: TensorFlow accuracy function\n",
    "    \"\"\"\n",
    "    # TODO: Implement Function\n",
    "     # Calculate batch loss and accuracy\n",
    "    \n",
    "    keep_probability = 1.0\n",
    "    \n",
    "    loss = session.run(cost, feed_dict={x: feature_batch, y: label_batch, keep_prob: keep_probability})\n",
    "    \n",
    "    valid_acc = session.run(accuracy, feed_dict={x: valid_features,y: valid_labels,keep_prob: keep_probability})\n",
    "    #print(loss,valid_acc)\n",
    "    print('Loss: {:>10.4f} Accuracy: {:.6f}'.format(loss,valid_acc))\n",
    "    \n",
    "    "
   ]
  },
  {
   "cell_type": "markdown",
   "metadata": {},
   "source": [
    "### Hyperparameters\n",
    "Tune the following parameters:\n",
    "* Set `epochs` to the number of iterations until the network stops learning or start overfitting\n",
    "* Set `batch_size` to the highest number that your machine has memory for.  Most people set them to common sizes of memory:\n",
    " * 64\n",
    " * 128\n",
    " * 256\n",
    " * ...\n",
    "* Set `keep_probability` to the probability of keeping a node using dropout"
   ]
  },
  {
   "cell_type": "code",
   "execution_count": 111,
   "metadata": {
    "collapsed": true
   },
   "outputs": [],
   "source": [
    "# TODO: Tune Parameters\n",
    "epochs = 30\n",
    "batch_size = 256\n",
    "keep_probability = .90"
   ]
  },
  {
   "cell_type": "markdown",
   "metadata": {},
   "source": [
    "### Train on a Single CIFAR-10 Batch\n",
    "Instead of training the neural network on all the CIFAR-10 batches of data, let's use a single batch. This should save time while you iterate on the model to get a better accuracy.  Once the final validation accuracy is 50% or greater, run the model on all the data in the next section."
   ]
  },
  {
   "cell_type": "code",
   "execution_count": 113,
   "metadata": {
    "collapsed": false
   },
   "outputs": [
    {
     "name": "stdout",
     "output_type": "stream",
     "text": [
      "Checking the Training on a Single Batch...\n",
      "Epoch  1, CIFAR-10 Batch 1:  Loss:     2.1472 Accuracy: 0.275000\n",
      "Epoch  2, CIFAR-10 Batch 1:  Loss:     1.9487 Accuracy: 0.361000\n",
      "Epoch  3, CIFAR-10 Batch 1:  Loss:     1.7649 Accuracy: 0.397400\n",
      "Epoch  4, CIFAR-10 Batch 1:  Loss:     1.5688 Accuracy: 0.432400\n",
      "Epoch  5, CIFAR-10 Batch 1:  Loss:     1.4307 Accuracy: 0.452200\n",
      "Epoch  6, CIFAR-10 Batch 1:  Loss:     1.2660 Accuracy: 0.470400\n",
      "Epoch  7, CIFAR-10 Batch 1:  Loss:     1.2330 Accuracy: 0.478200\n",
      "Epoch  8, CIFAR-10 Batch 1:  Loss:     1.0884 Accuracy: 0.497800\n",
      "Epoch  9, CIFAR-10 Batch 1:  Loss:     1.0240 Accuracy: 0.490200\n",
      "Epoch 10, CIFAR-10 Batch 1:  Loss:     0.9462 Accuracy: 0.501200\n",
      "Epoch 11, CIFAR-10 Batch 1:  Loss:     0.8462 Accuracy: 0.504000\n",
      "Epoch 12, CIFAR-10 Batch 1:  Loss:     0.7798 Accuracy: 0.516200\n",
      "Epoch 13, CIFAR-10 Batch 1:  Loss:     0.7403 Accuracy: 0.522800\n",
      "Epoch 14, CIFAR-10 Batch 1:  Loss:     0.7288 Accuracy: 0.524400\n",
      "Epoch 15, CIFAR-10 Batch 1:  Loss:     0.6550 Accuracy: 0.527800\n",
      "Epoch 16, CIFAR-10 Batch 1:  Loss:     0.6217 Accuracy: 0.524600\n",
      "Epoch 17, CIFAR-10 Batch 1:  Loss:     0.5804 Accuracy: 0.539200\n",
      "Epoch 18, CIFAR-10 Batch 1:  Loss:     0.5532 Accuracy: 0.528200\n",
      "Epoch 19, CIFAR-10 Batch 1:  Loss:     0.5414 Accuracy: 0.528400\n",
      "Epoch 20, CIFAR-10 Batch 1:  Loss:     0.5013 Accuracy: 0.550000\n",
      "Epoch 21, CIFAR-10 Batch 1:  Loss:     0.4502 Accuracy: 0.551400\n",
      "Epoch 22, CIFAR-10 Batch 1:  Loss:     0.4316 Accuracy: 0.550800\n",
      "Epoch 23, CIFAR-10 Batch 1:  Loss:     0.3965 Accuracy: 0.554600\n",
      "Epoch 24, CIFAR-10 Batch 1:  Loss:     0.3649 Accuracy: 0.558000\n",
      "Epoch 25, CIFAR-10 Batch 1:  Loss:     0.3860 Accuracy: 0.549000\n",
      "Epoch 26, CIFAR-10 Batch 1:  Loss:     0.3332 Accuracy: 0.556800\n",
      "Epoch 27, CIFAR-10 Batch 1:  Loss:     0.3001 Accuracy: 0.562400\n",
      "Epoch 28, CIFAR-10 Batch 1:  Loss:     0.3106 Accuracy: 0.552600\n",
      "Epoch 29, CIFAR-10 Batch 1:  Loss:     0.3056 Accuracy: 0.559200\n",
      "Epoch 30, CIFAR-10 Batch 1:  Loss:     0.2828 Accuracy: 0.564400\n"
     ]
    }
   ],
   "source": [
    "\"\"\"\n",
    "DON'T MODIFY ANYTHING IN THIS CELL\n",
    "\"\"\"\n",
    "print('Checking the Training on a Single Batch...')\n",
    "with tf.Session() as sess:\n",
    "    # Initializing the variables\n",
    "    sess.run(tf.global_variables_initializer())\n",
    "    \n",
    "    # Training cycle\n",
    "    for epoch in range(epochs):\n",
    "        batch_i = 1\n",
    "        for batch_features, batch_labels in helper.load_preprocess_training_batch(batch_i, batch_size):\n",
    "            train_neural_network(sess, optimizer, keep_probability, batch_features, batch_labels)\n",
    "        print('Epoch {:>2}, CIFAR-10 Batch {}:  '.format(epoch + 1, batch_i), end='')\n",
    "        print_stats(sess, batch_features, batch_labels, cost, accuracy)"
   ]
  },
  {
   "cell_type": "markdown",
   "metadata": {},
   "source": [
    "### Fully Train the Model\n",
    "Now that you got a good accuracy with a single CIFAR-10 batch, try it with all five batches."
   ]
  },
  {
   "cell_type": "code",
   "execution_count": 117,
   "metadata": {
    "collapsed": false
   },
   "outputs": [
    {
     "name": "stdout",
     "output_type": "stream",
     "text": [
      "Training...\n",
      "Epoch  1, CIFAR-10 Batch 1:  Loss:     2.1493 Accuracy: 0.248800\n",
      "Epoch  1, CIFAR-10 Batch 2:  Loss:     1.8557 Accuracy: 0.338800\n",
      "Epoch  1, CIFAR-10 Batch 3:  Loss:     1.6202 Accuracy: 0.364000\n",
      "Epoch  1, CIFAR-10 Batch 4:  Loss:     1.5983 Accuracy: 0.411600\n",
      "Epoch  1, CIFAR-10 Batch 5:  Loss:     1.5197 Accuracy: 0.438600\n",
      "Epoch  2, CIFAR-10 Batch 1:  Loss:     1.6654 Accuracy: 0.463200\n",
      "Epoch  2, CIFAR-10 Batch 2:  Loss:     1.4823 Accuracy: 0.459000\n",
      "Epoch  2, CIFAR-10 Batch 3:  Loss:     1.2371 Accuracy: 0.468800\n",
      "Epoch  2, CIFAR-10 Batch 4:  Loss:     1.3645 Accuracy: 0.484200\n",
      "Epoch  2, CIFAR-10 Batch 5:  Loss:     1.3338 Accuracy: 0.491200\n",
      "Epoch  3, CIFAR-10 Batch 1:  Loss:     1.4428 Accuracy: 0.510800\n",
      "Epoch  3, CIFAR-10 Batch 2:  Loss:     1.2968 Accuracy: 0.505000\n",
      "Epoch  3, CIFAR-10 Batch 3:  Loss:     1.0627 Accuracy: 0.520800\n",
      "Epoch  3, CIFAR-10 Batch 4:  Loss:     1.2128 Accuracy: 0.523000\n",
      "Epoch  3, CIFAR-10 Batch 5:  Loss:     1.1810 Accuracy: 0.514800\n",
      "Epoch  4, CIFAR-10 Batch 1:  Loss:     1.2873 Accuracy: 0.548400\n",
      "Epoch  4, CIFAR-10 Batch 2:  Loss:     1.0841 Accuracy: 0.528600\n",
      "Epoch  4, CIFAR-10 Batch 3:  Loss:     0.9151 Accuracy: 0.543600\n",
      "Epoch  4, CIFAR-10 Batch 4:  Loss:     1.0590 Accuracy: 0.566000\n",
      "Epoch  4, CIFAR-10 Batch 5:  Loss:     1.0830 Accuracy: 0.524800\n",
      "Epoch  5, CIFAR-10 Batch 1:  Loss:     1.1685 Accuracy: 0.571600\n",
      "Epoch  5, CIFAR-10 Batch 2:  Loss:     0.9350 Accuracy: 0.561800\n",
      "Epoch  5, CIFAR-10 Batch 3:  Loss:     0.7792 Accuracy: 0.560600\n",
      "Epoch  5, CIFAR-10 Batch 4:  Loss:     1.0130 Accuracy: 0.576800\n",
      "Epoch  5, CIFAR-10 Batch 5:  Loss:     0.9385 Accuracy: 0.572000\n",
      "Epoch  6, CIFAR-10 Batch 1:  Loss:     1.0559 Accuracy: 0.585800\n",
      "Epoch  6, CIFAR-10 Batch 2:  Loss:     0.8293 Accuracy: 0.593800\n",
      "Epoch  6, CIFAR-10 Batch 3:  Loss:     0.7134 Accuracy: 0.579600\n",
      "Epoch  6, CIFAR-10 Batch 4:  Loss:     0.8949 Accuracy: 0.598000\n",
      "Epoch  6, CIFAR-10 Batch 5:  Loss:     0.8451 Accuracy: 0.585200\n",
      "Epoch  7, CIFAR-10 Batch 1:  Loss:     0.9839 Accuracy: 0.605000\n",
      "Epoch  7, CIFAR-10 Batch 2:  Loss:     0.7852 Accuracy: 0.604200\n",
      "Epoch  7, CIFAR-10 Batch 3:  Loss:     0.6051 Accuracy: 0.599200\n",
      "Epoch  7, CIFAR-10 Batch 4:  Loss:     0.8186 Accuracy: 0.611200\n",
      "Epoch  7, CIFAR-10 Batch 5:  Loss:     0.7331 Accuracy: 0.600400\n",
      "Epoch  8, CIFAR-10 Batch 1:  Loss:     0.9638 Accuracy: 0.614200\n",
      "Epoch  8, CIFAR-10 Batch 2:  Loss:     0.7541 Accuracy: 0.605200\n",
      "Epoch  8, CIFAR-10 Batch 3:  Loss:     0.5497 Accuracy: 0.601000\n",
      "Epoch  8, CIFAR-10 Batch 4:  Loss:     0.7625 Accuracy: 0.619400\n",
      "Epoch  8, CIFAR-10 Batch 5:  Loss:     0.6398 Accuracy: 0.621200\n",
      "Epoch  9, CIFAR-10 Batch 1:  Loss:     0.8510 Accuracy: 0.623800\n",
      "Epoch  9, CIFAR-10 Batch 2:  Loss:     0.7474 Accuracy: 0.620800\n",
      "Epoch  9, CIFAR-10 Batch 3:  Loss:     0.4576 Accuracy: 0.609600\n",
      "Epoch  9, CIFAR-10 Batch 4:  Loss:     0.6712 Accuracy: 0.634400\n",
      "Epoch  9, CIFAR-10 Batch 5:  Loss:     0.6174 Accuracy: 0.634200\n",
      "Epoch 10, CIFAR-10 Batch 1:  Loss:     0.7945 Accuracy: 0.629400\n",
      "Epoch 10, CIFAR-10 Batch 2:  Loss:     0.6743 Accuracy: 0.627800\n",
      "Epoch 10, CIFAR-10 Batch 3:  Loss:     0.4253 Accuracy: 0.623600\n",
      "Epoch 10, CIFAR-10 Batch 4:  Loss:     0.5892 Accuracy: 0.642000\n",
      "Epoch 10, CIFAR-10 Batch 5:  Loss:     0.5831 Accuracy: 0.633000\n",
      "Epoch 11, CIFAR-10 Batch 1:  Loss:     0.7519 Accuracy: 0.629200\n",
      "Epoch 11, CIFAR-10 Batch 2:  Loss:     0.6008 Accuracy: 0.628200\n",
      "Epoch 11, CIFAR-10 Batch 3:  Loss:     0.4531 Accuracy: 0.614400\n",
      "Epoch 11, CIFAR-10 Batch 4:  Loss:     0.5477 Accuracy: 0.647200\n",
      "Epoch 11, CIFAR-10 Batch 5:  Loss:     0.5216 Accuracy: 0.639800\n",
      "Epoch 12, CIFAR-10 Batch 1:  Loss:     0.6820 Accuracy: 0.638600\n",
      "Epoch 12, CIFAR-10 Batch 2:  Loss:     0.5504 Accuracy: 0.639600\n",
      "Epoch 12, CIFAR-10 Batch 3:  Loss:     0.4096 Accuracy: 0.637600\n",
      "Epoch 12, CIFAR-10 Batch 4:  Loss:     0.4752 Accuracy: 0.649400\n",
      "Epoch 12, CIFAR-10 Batch 5:  Loss:     0.4914 Accuracy: 0.635000\n",
      "Epoch 13, CIFAR-10 Batch 1:  Loss:     0.6489 Accuracy: 0.656000\n",
      "Epoch 13, CIFAR-10 Batch 2:  Loss:     0.5423 Accuracy: 0.649000\n",
      "Epoch 13, CIFAR-10 Batch 3:  Loss:     0.4055 Accuracy: 0.634800\n",
      "Epoch 13, CIFAR-10 Batch 4:  Loss:     0.4641 Accuracy: 0.648800\n",
      "Epoch 13, CIFAR-10 Batch 5:  Loss:     0.4724 Accuracy: 0.653200\n",
      "Epoch 14, CIFAR-10 Batch 1:  Loss:     0.6499 Accuracy: 0.654800\n",
      "Epoch 14, CIFAR-10 Batch 2:  Loss:     0.4868 Accuracy: 0.651400\n",
      "Epoch 14, CIFAR-10 Batch 3:  Loss:     0.3720 Accuracy: 0.649000\n",
      "Epoch 14, CIFAR-10 Batch 4:  Loss:     0.4290 Accuracy: 0.655000\n",
      "Epoch 14, CIFAR-10 Batch 5:  Loss:     0.4643 Accuracy: 0.648000\n",
      "Epoch 15, CIFAR-10 Batch 1:  Loss:     0.6170 Accuracy: 0.648200\n",
      "Epoch 15, CIFAR-10 Batch 2:  Loss:     0.4860 Accuracy: 0.658400\n",
      "Epoch 15, CIFAR-10 Batch 3:  Loss:     0.4037 Accuracy: 0.642000\n",
      "Epoch 15, CIFAR-10 Batch 4:  Loss:     0.3857 Accuracy: 0.654600\n",
      "Epoch 15, CIFAR-10 Batch 5:  Loss:     0.3890 Accuracy: 0.660400\n",
      "Epoch 16, CIFAR-10 Batch 1:  Loss:     0.6130 Accuracy: 0.655000\n",
      "Epoch 16, CIFAR-10 Batch 2:  Loss:     0.4530 Accuracy: 0.652600\n",
      "Epoch 16, CIFAR-10 Batch 3:  Loss:     0.3574 Accuracy: 0.645800\n",
      "Epoch 16, CIFAR-10 Batch 4:  Loss:     0.3557 Accuracy: 0.662400\n",
      "Epoch 16, CIFAR-10 Batch 5:  Loss:     0.3808 Accuracy: 0.661200\n",
      "Epoch 17, CIFAR-10 Batch 1:  Loss:     0.5714 Accuracy: 0.661800\n",
      "Epoch 17, CIFAR-10 Batch 2:  Loss:     0.4352 Accuracy: 0.650000\n",
      "Epoch 17, CIFAR-10 Batch 3:  Loss:     0.3517 Accuracy: 0.650600\n",
      "Epoch 17, CIFAR-10 Batch 4:  Loss:     0.3344 Accuracy: 0.664400\n",
      "Epoch 17, CIFAR-10 Batch 5:  Loss:     0.3964 Accuracy: 0.666400\n",
      "Epoch 18, CIFAR-10 Batch 1:  Loss:     0.5561 Accuracy: 0.663600\n",
      "Epoch 18, CIFAR-10 Batch 2:  Loss:     0.4171 Accuracy: 0.650600\n",
      "Epoch 18, CIFAR-10 Batch 3:  Loss:     0.3520 Accuracy: 0.642400\n",
      "Epoch 18, CIFAR-10 Batch 4:  Loss:     0.3433 Accuracy: 0.657000\n",
      "Epoch 18, CIFAR-10 Batch 5:  Loss:     0.3797 Accuracy: 0.663600\n",
      "Epoch 19, CIFAR-10 Batch 1:  Loss:     0.5172 Accuracy: 0.674600\n",
      "Epoch 19, CIFAR-10 Batch 2:  Loss:     0.3783 Accuracy: 0.657600\n",
      "Epoch 19, CIFAR-10 Batch 3:  Loss:     0.3172 Accuracy: 0.637600\n",
      "Epoch 19, CIFAR-10 Batch 4:  Loss:     0.2708 Accuracy: 0.664000\n",
      "Epoch 19, CIFAR-10 Batch 5:  Loss:     0.3727 Accuracy: 0.660400\n",
      "Epoch 20, CIFAR-10 Batch 1:  Loss:     0.4872 Accuracy: 0.666200\n",
      "Epoch 20, CIFAR-10 Batch 2:  Loss:     0.3629 Accuracy: 0.660600\n",
      "Epoch 20, CIFAR-10 Batch 3:  Loss:     0.3145 Accuracy: 0.635000\n",
      "Epoch 20, CIFAR-10 Batch 4:  Loss:     0.2802 Accuracy: 0.670600\n",
      "Epoch 20, CIFAR-10 Batch 5:  Loss:     0.3764 Accuracy: 0.651200\n",
      "Epoch 21, CIFAR-10 Batch 1:  Loss:     0.4830 Accuracy: 0.663200\n",
      "Epoch 21, CIFAR-10 Batch 2:  Loss:     0.3514 Accuracy: 0.661800\n",
      "Epoch 21, CIFAR-10 Batch 3:  Loss:     0.3475 Accuracy: 0.634600\n",
      "Epoch 21, CIFAR-10 Batch 4:  Loss:     0.2872 Accuracy: 0.673600\n",
      "Epoch 21, CIFAR-10 Batch 5:  Loss:     0.3247 Accuracy: 0.651600\n",
      "Epoch 22, CIFAR-10 Batch 1:  Loss:     0.4458 Accuracy: 0.659400\n",
      "Epoch 22, CIFAR-10 Batch 2:  Loss:     0.2949 Accuracy: 0.662400\n",
      "Epoch 22, CIFAR-10 Batch 3:  Loss:     0.3059 Accuracy: 0.649200\n",
      "Epoch 22, CIFAR-10 Batch 4:  Loss:     0.2732 Accuracy: 0.676000\n",
      "Epoch 22, CIFAR-10 Batch 5:  Loss:     0.3017 Accuracy: 0.670800\n",
      "Epoch 23, CIFAR-10 Batch 1:  Loss:     0.4551 Accuracy: 0.655000\n",
      "Epoch 23, CIFAR-10 Batch 2:  Loss:     0.2891 Accuracy: 0.671400\n",
      "Epoch 23, CIFAR-10 Batch 3:  Loss:     0.3146 Accuracy: 0.637800\n",
      "Epoch 23, CIFAR-10 Batch 4:  Loss:     0.2378 Accuracy: 0.671400\n",
      "Epoch 23, CIFAR-10 Batch 5:  Loss:     0.2901 Accuracy: 0.671000\n",
      "Epoch 24, CIFAR-10 Batch 1:  Loss:     0.4432 Accuracy: 0.661200\n",
      "Epoch 24, CIFAR-10 Batch 2:  Loss:     0.3072 Accuracy: 0.669800\n",
      "Epoch 24, CIFAR-10 Batch 3:  Loss:     0.2555 Accuracy: 0.659000\n",
      "Epoch 24, CIFAR-10 Batch 4:  Loss:     0.2317 Accuracy: 0.676200\n",
      "Epoch 24, CIFAR-10 Batch 5:  Loss:     0.2734 Accuracy: 0.673200\n",
      "Epoch 25, CIFAR-10 Batch 1:  Loss:     0.4231 Accuracy: 0.667400\n",
      "Epoch 25, CIFAR-10 Batch 2:  Loss:     0.2768 Accuracy: 0.661000\n",
      "Epoch 25, CIFAR-10 Batch 3:  Loss:     0.2469 Accuracy: 0.658800\n",
      "Epoch 25, CIFAR-10 Batch 4:  Loss:     0.2053 Accuracy: 0.678600\n",
      "Epoch 25, CIFAR-10 Batch 5:  Loss:     0.2410 Accuracy: 0.667200\n",
      "Epoch 26, CIFAR-10 Batch 1:  Loss:     0.4014 Accuracy: 0.663000\n",
      "Epoch 26, CIFAR-10 Batch 2:  Loss:     0.2568 Accuracy: 0.665000\n",
      "Epoch 26, CIFAR-10 Batch 3:  Loss:     0.2300 Accuracy: 0.671000\n",
      "Epoch 26, CIFAR-10 Batch 4:  Loss:     0.2138 Accuracy: 0.671800\n",
      "Epoch 26, CIFAR-10 Batch 5:  Loss:     0.2448 Accuracy: 0.669800\n",
      "Epoch 27, CIFAR-10 Batch 1:  Loss:     0.3597 Accuracy: 0.670400\n",
      "Epoch 27, CIFAR-10 Batch 2:  Loss:     0.2597 Accuracy: 0.669400\n",
      "Epoch 27, CIFAR-10 Batch 3:  Loss:     0.2270 Accuracy: 0.668400\n",
      "Epoch 27, CIFAR-10 Batch 4:  Loss:     0.2225 Accuracy: 0.673200\n",
      "Epoch 27, CIFAR-10 Batch 5:  Loss:     0.2514 Accuracy: 0.663800\n",
      "Epoch 28, CIFAR-10 Batch 1:  Loss:     0.3790 Accuracy: 0.660600\n",
      "Epoch 28, CIFAR-10 Batch 2:  Loss:     0.2308 Accuracy: 0.667600\n",
      "Epoch 28, CIFAR-10 Batch 3:  Loss:     0.2371 Accuracy: 0.660600\n",
      "Epoch 28, CIFAR-10 Batch 4:  Loss:     0.2013 Accuracy: 0.677200\n",
      "Epoch 28, CIFAR-10 Batch 5:  Loss:     0.2313 Accuracy: 0.659600\n",
      "Epoch 29, CIFAR-10 Batch 1:  Loss:     0.3826 Accuracy: 0.652800\n",
      "Epoch 29, CIFAR-10 Batch 2:  Loss:     0.2265 Accuracy: 0.675200\n",
      "Epoch 29, CIFAR-10 Batch 3:  Loss:     0.2305 Accuracy: 0.656200\n",
      "Epoch 29, CIFAR-10 Batch 4:  Loss:     0.1904 Accuracy: 0.684000\n",
      "Epoch 29, CIFAR-10 Batch 5:  Loss:     0.2180 Accuracy: 0.671000\n",
      "Epoch 30, CIFAR-10 Batch 1:  Loss:     0.3170 Accuracy: 0.663400\n",
      "Epoch 30, CIFAR-10 Batch 2:  Loss:     0.2640 Accuracy: 0.664400\n",
      "Epoch 30, CIFAR-10 Batch 3:  Loss:     0.2097 Accuracy: 0.671800\n",
      "Epoch 30, CIFAR-10 Batch 4:  Loss:     0.1786 Accuracy: 0.682200\n",
      "Epoch 30, CIFAR-10 Batch 5:  Loss:     0.2245 Accuracy: 0.668600\n"
     ]
    }
   ],
   "source": [
    "\"\"\"\n",
    "DON'T MODIFY ANYTHING IN THIS CELL\n",
    "\"\"\"\n",
    "save_model_path = './image_classification'\n",
    "\n",
    "print('Training...')\n",
    "with tf.Session() as sess:\n",
    "    # Initializing the variables\n",
    "    sess.run(tf.global_variables_initializer())\n",
    "    \n",
    "    # Training cycle\n",
    "    for epoch in range(epochs):\n",
    "        # Loop over all batches\n",
    "        n_batches = 5\n",
    "        for batch_i in range(1, n_batches + 1):\n",
    "            for batch_features, batch_labels in helper.load_preprocess_training_batch(batch_i, batch_size):\n",
    "                train_neural_network(sess, optimizer, keep_probability, batch_features, batch_labels)\n",
    "            print('Epoch {:>2}, CIFAR-10 Batch {}:  '.format(epoch + 1, batch_i), end='')\n",
    "            print_stats(sess, batch_features, batch_labels, cost, accuracy)\n",
    "            \n",
    "    # Save Model\n",
    "    saver = tf.train.Saver()\n",
    "    save_path = saver.save(sess, save_model_path)"
   ]
  },
  {
   "cell_type": "markdown",
   "metadata": {},
   "source": [
    "# Checkpoint\n",
    "The model has been saved to disk.\n",
    "## Test Model\n",
    "Test your model against the test dataset.  This will be your final accuracy. You should have an accuracy greater than 50%. If you don't, keep tweaking the model architecture and parameters."
   ]
  },
  {
   "cell_type": "code",
   "execution_count": 118,
   "metadata": {
    "collapsed": false
   },
   "outputs": [
    {
     "name": "stdout",
     "output_type": "stream",
     "text": [
      "Testing Accuracy: 0.67353515625\n",
      "\n"
     ]
    },
    {
     "data": {
      "image/png": "[encoded data removed]",
      "text/plain": [
       "<matplotlib.figure.Figure at 0x71d72b0>"
      ]
     },
     "metadata": {
      "image/png": {
       "height": 319,
       "width": 355
      }
     },
     "output_type": "display_data"
    }
   ],
   "source": [
    "\"\"\"\n",
    "DON'T MODIFY ANYTHING IN THIS CELL\n",
    "\"\"\"\n",
    "%matplotlib inline\n",
    "%config InlineBackend.figure_format = 'retina'\n",
    "\n",
    "import tensorflow as tf\n",
    "import pickle\n",
    "import helper\n",
    "import random\n",
    "\n",
    "# Set batch size if not already set\n",
    "try:\n",
    "    if batch_size:\n",
    "        pass\n",
    "except NameError:\n",
    "    batch_size = 64\n",
    "\n",
    "save_model_path = './image_classification'\n",
    "n_samples = 4\n",
    "top_n_predictions = 3\n",
    "\n",
    "def test_model():\n",
    "    \"\"\"\n",
    "    Test the saved model against the test dataset\n",
    "    \"\"\"\n",
    "\n",
    "    test_features, test_labels = pickle.load(open('preprocess_training.p', mode='rb'))\n",
    "    loaded_graph = tf.Graph()\n",
    "\n",
    "    with tf.Session(graph=loaded_graph) as sess:\n",
    "        # Load model\n",
    "        loader = tf.train.import_meta_graph(save_model_path + '.meta')\n",
    "        loader.restore(sess, save_model_path)\n",
    "\n",
    "        # Get Tensors from loaded model\n",
    "        loaded_x = loaded_graph.get_tensor_by_name('x:0')\n",
    "        loaded_y = loaded_graph.get_tensor_by_name('y:0')\n",
    "        loaded_keep_prob = loaded_graph.get_tensor_by_name('keep_prob:0')\n",
    "        loaded_logits = loaded_graph.get_tensor_by_name('logits:0')\n",
    "        loaded_acc = loaded_graph.get_tensor_by_name('accuracy:0')\n",
    "        \n",
    "        # Get accuracy in batches for memory limitations\n",
    "        test_batch_acc_total = 0\n",
    "        test_batch_count = 0\n",
    "        \n",
    "        for train_feature_batch, train_label_batch in helper.batch_features_labels(test_features, test_labels, batch_size):\n",
    "            test_batch_acc_total += sess.run(\n",
    "                loaded_acc,\n",
    "                feed_dict={loaded_x: train_feature_batch, loaded_y: train_label_batch, loaded_keep_prob: 1.0})\n",
    "            test_batch_count += 1\n",
    "\n",
    "        print('Testing Accuracy: {}\\n'.format(test_batch_acc_total/test_batch_count))\n",
    "\n",
    "        # Print Random Samples\n",
    "        random_test_features, random_test_labels = tuple(zip(*random.sample(list(zip(test_features, test_labels)), n_samples)))\n",
    "        random_test_predictions = sess.run(\n",
    "            tf.nn.top_k(tf.nn.softmax(loaded_logits), top_n_predictions),\n",
    "            feed_dict={loaded_x: random_test_features, loaded_y: random_test_labels, loaded_keep_prob: 1.0})\n",
    "        helper.display_image_predictions(random_test_features, random_test_labels, random_test_predictions)\n",
    "\n",
    "\n",
    "test_model()"
   ]
  },
  {
   "cell_type": "markdown",
   "metadata": {},
   "source": [
    "## Why 50-70% Accuracy?\n",
    "You might be wondering why you can't get an accuracy any higher. First things first, 50% isn't bad for a simple CNN.  Pure guessing would get you 10% accuracy. However, you might notice people are getting scores [well above 70%](http://rodrigob.github.io/are_we_there_yet/build/classification_datasets_results.html#43494641522d3130).  That's because we haven't taught you all there is to know about neural networks. We still need to cover a few more techniques.\n",
    "## Submitting This Project\n",
    "When submitting this project, make sure to run all the cells before saving the notebook.  Save the notebook file as \"dlnd_image_classification.ipynb\" and save it as a HTML file under \"File\" -> \"Download as\".  Include the \"helper.py\" and \"problem_unittests.py\" files in your submission."
   ]
  }
 ],
 "metadata": {
  "kernelspec": {
   "display_name": "Python 3",
   "language": "python",
   "name": "python3"
  },
  "language_info": {
   "codemirror_mode": {
    "name": "ipython",
    "version": 3
   },
   "file_extension": ".py",
   "mimetype": "text/x-python",
   "name": "python",
   "nbconvert_exporter": "python",
   "pygments_lexer": "ipython3",
   "version": "3.5.2"
  }
 },
 "nbformat": 4,
 "nbformat_minor": 0
}
